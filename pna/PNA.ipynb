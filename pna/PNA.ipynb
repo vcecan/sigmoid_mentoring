{
 "cells": [
  {
   "cell_type": "code",
   "execution_count": 2,
   "id": "20a79eb7",
   "metadata": {},
   "outputs": [],
   "source": [
    "import pandas as pd\n",
    "import numpy as np\n",
    "from sklearn.ensemble import ExtraTreesClassifier"
   ]
  },
  {
   "cell_type": "code",
   "execution_count": 101,
   "id": "739892d0",
   "metadata": {},
   "outputs": [],
   "source": [
    "test = pd.read_csv(\"kidney_disease_test.csv\")\n",
    "data = pd.read_csv(\"kidney_disease_train.csv\")\n",
    "data = data.replace(to_replace =[\"normal\", \"abnormal\",\"notpresent\",\"present\",\"no\",\"yes\",\"poor\",\"good\",\"ckd\",\"notckd\"], value =[0,1,0,1,0,1,0,1,0,1])\n",
    "data_mean = data\n",
    "data_median = data\n",
    "data_mode = data\n",
    "data_constant = data\n",
    "data_interactiv = data\n",
    "data_knn = data"
   ]
  },
  {
   "cell_type": "markdown",
   "id": "58598dbc",
   "metadata": {},
   "source": [
    "### Am creat mai multe variabile pentru dataseturi, pentru a cerceta fiecare metoda de input\n"
   ]
  },
  {
   "cell_type": "code",
   "execution_count": 245,
   "id": "9a2e8341",
   "metadata": {},
   "outputs": [
    {
     "data": {
      "text/html": [
       "<div>\n",
       "<style scoped>\n",
       "    .dataframe tbody tr th:only-of-type {\n",
       "        vertical-align: middle;\n",
       "    }\n",
       "\n",
       "    .dataframe tbody tr th {\n",
       "        vertical-align: top;\n",
       "    }\n",
       "\n",
       "    .dataframe thead th {\n",
       "        text-align: right;\n",
       "    }\n",
       "</style>\n",
       "<table border=\"1\" class=\"dataframe\">\n",
       "  <thead>\n",
       "    <tr style=\"text-align: right;\">\n",
       "      <th></th>\n",
       "      <th>id</th>\n",
       "      <th>age</th>\n",
       "      <th>bp</th>\n",
       "      <th>sg</th>\n",
       "      <th>al</th>\n",
       "      <th>su</th>\n",
       "      <th>rbc</th>\n",
       "      <th>pc</th>\n",
       "      <th>pcc</th>\n",
       "      <th>ba</th>\n",
       "      <th>...</th>\n",
       "      <th>pcv</th>\n",
       "      <th>wc</th>\n",
       "      <th>rc</th>\n",
       "      <th>htn</th>\n",
       "      <th>dm</th>\n",
       "      <th>cad</th>\n",
       "      <th>appet</th>\n",
       "      <th>pe</th>\n",
       "      <th>ane</th>\n",
       "      <th>classification</th>\n",
       "    </tr>\n",
       "  </thead>\n",
       "  <tbody>\n",
       "    <tr>\n",
       "      <th>0</th>\n",
       "      <td>157.0</td>\n",
       "      <td>62.0</td>\n",
       "      <td>70.0</td>\n",
       "      <td>1.025000</td>\n",
       "      <td>3.00000</td>\n",
       "      <td>0.000000</td>\n",
       "      <td>0.00000</td>\n",
       "      <td>1.000000</td>\n",
       "      <td>0.0</td>\n",
       "      <td>0.0</td>\n",
       "      <td>...</td>\n",
       "      <td>39.000000</td>\n",
       "      <td>7900.000000</td>\n",
       "      <td>3.900000</td>\n",
       "      <td>1.0</td>\n",
       "      <td>1.0</td>\n",
       "      <td>0.0</td>\n",
       "      <td>1.0</td>\n",
       "      <td>0.0</td>\n",
       "      <td>0.0</td>\n",
       "      <td>0.0</td>\n",
       "    </tr>\n",
       "    <tr>\n",
       "      <th>1</th>\n",
       "      <td>109.0</td>\n",
       "      <td>54.0</td>\n",
       "      <td>70.0</td>\n",
       "      <td>1.017439</td>\n",
       "      <td>1.02449</td>\n",
       "      <td>0.438017</td>\n",
       "      <td>0.16763</td>\n",
       "      <td>0.213043</td>\n",
       "      <td>0.0</td>\n",
       "      <td>0.0</td>\n",
       "      <td>...</td>\n",
       "      <td>39.165939</td>\n",
       "      <td>8354.950495</td>\n",
       "      <td>4.706452</td>\n",
       "      <td>0.0</td>\n",
       "      <td>1.0</td>\n",
       "      <td>0.0</td>\n",
       "      <td>1.0</td>\n",
       "      <td>0.0</td>\n",
       "      <td>0.0</td>\n",
       "      <td>0.0</td>\n",
       "    </tr>\n",
       "    <tr>\n",
       "      <th>2</th>\n",
       "      <td>17.0</td>\n",
       "      <td>47.0</td>\n",
       "      <td>80.0</td>\n",
       "      <td>1.017439</td>\n",
       "      <td>1.02449</td>\n",
       "      <td>0.438017</td>\n",
       "      <td>0.16763</td>\n",
       "      <td>0.213043</td>\n",
       "      <td>0.0</td>\n",
       "      <td>0.0</td>\n",
       "      <td>...</td>\n",
       "      <td>39.165939</td>\n",
       "      <td>8354.950495</td>\n",
       "      <td>4.706452</td>\n",
       "      <td>1.0</td>\n",
       "      <td>0.0</td>\n",
       "      <td>0.0</td>\n",
       "      <td>0.0</td>\n",
       "      <td>0.0</td>\n",
       "      <td>0.0</td>\n",
       "      <td>0.0</td>\n",
       "    </tr>\n",
       "    <tr>\n",
       "      <th>3</th>\n",
       "      <td>347.0</td>\n",
       "      <td>43.0</td>\n",
       "      <td>60.0</td>\n",
       "      <td>1.025000</td>\n",
       "      <td>0.00000</td>\n",
       "      <td>0.000000</td>\n",
       "      <td>0.00000</td>\n",
       "      <td>0.000000</td>\n",
       "      <td>0.0</td>\n",
       "      <td>0.0</td>\n",
       "      <td>...</td>\n",
       "      <td>43.000000</td>\n",
       "      <td>7200.000000</td>\n",
       "      <td>5.500000</td>\n",
       "      <td>0.0</td>\n",
       "      <td>0.0</td>\n",
       "      <td>0.0</td>\n",
       "      <td>1.0</td>\n",
       "      <td>0.0</td>\n",
       "      <td>0.0</td>\n",
       "      <td>1.0</td>\n",
       "    </tr>\n",
       "    <tr>\n",
       "      <th>4</th>\n",
       "      <td>24.0</td>\n",
       "      <td>42.0</td>\n",
       "      <td>100.0</td>\n",
       "      <td>1.015000</td>\n",
       "      <td>4.00000</td>\n",
       "      <td>0.000000</td>\n",
       "      <td>0.00000</td>\n",
       "      <td>1.000000</td>\n",
       "      <td>0.0</td>\n",
       "      <td>1.0</td>\n",
       "      <td>...</td>\n",
       "      <td>39.000000</td>\n",
       "      <td>8300.000000</td>\n",
       "      <td>4.600000</td>\n",
       "      <td>1.0</td>\n",
       "      <td>0.0</td>\n",
       "      <td>0.0</td>\n",
       "      <td>0.0</td>\n",
       "      <td>0.0</td>\n",
       "      <td>0.0</td>\n",
       "      <td>0.0</td>\n",
       "    </tr>\n",
       "    <tr>\n",
       "      <th>5</th>\n",
       "      <td>175.0</td>\n",
       "      <td>60.0</td>\n",
       "      <td>50.0</td>\n",
       "      <td>1.010000</td>\n",
       "      <td>0.00000</td>\n",
       "      <td>0.000000</td>\n",
       "      <td>0.16763</td>\n",
       "      <td>0.000000</td>\n",
       "      <td>0.0</td>\n",
       "      <td>0.0</td>\n",
       "      <td>...</td>\n",
       "      <td>39.165939</td>\n",
       "      <td>4200.000000</td>\n",
       "      <td>3.400000</td>\n",
       "      <td>1.0</td>\n",
       "      <td>0.0</td>\n",
       "      <td>0.0</td>\n",
       "      <td>1.0</td>\n",
       "      <td>0.0</td>\n",
       "      <td>0.0</td>\n",
       "      <td>0.0</td>\n",
       "    </tr>\n",
       "    <tr>\n",
       "      <th>6</th>\n",
       "      <td>351.0</td>\n",
       "      <td>29.0</td>\n",
       "      <td>80.0</td>\n",
       "      <td>1.020000</td>\n",
       "      <td>0.00000</td>\n",
       "      <td>0.000000</td>\n",
       "      <td>0.00000</td>\n",
       "      <td>0.000000</td>\n",
       "      <td>0.0</td>\n",
       "      <td>0.0</td>\n",
       "      <td>...</td>\n",
       "      <td>40.000000</td>\n",
       "      <td>9900.000000</td>\n",
       "      <td>4.700000</td>\n",
       "      <td>0.0</td>\n",
       "      <td>0.0</td>\n",
       "      <td>0.0</td>\n",
       "      <td>1.0</td>\n",
       "      <td>0.0</td>\n",
       "      <td>0.0</td>\n",
       "      <td>1.0</td>\n",
       "    </tr>\n",
       "    <tr>\n",
       "      <th>7</th>\n",
       "      <td>332.0</td>\n",
       "      <td>34.0</td>\n",
       "      <td>70.0</td>\n",
       "      <td>1.025000</td>\n",
       "      <td>0.00000</td>\n",
       "      <td>0.000000</td>\n",
       "      <td>0.00000</td>\n",
       "      <td>0.000000</td>\n",
       "      <td>0.0</td>\n",
       "      <td>0.0</td>\n",
       "      <td>...</td>\n",
       "      <td>44.000000</td>\n",
       "      <td>10500.000000</td>\n",
       "      <td>6.100000</td>\n",
       "      <td>0.0</td>\n",
       "      <td>0.0</td>\n",
       "      <td>0.0</td>\n",
       "      <td>1.0</td>\n",
       "      <td>0.0</td>\n",
       "      <td>0.0</td>\n",
       "      <td>1.0</td>\n",
       "    </tr>\n",
       "    <tr>\n",
       "      <th>8</th>\n",
       "      <td>167.0</td>\n",
       "      <td>34.0</td>\n",
       "      <td>70.0</td>\n",
       "      <td>1.020000</td>\n",
       "      <td>0.00000</td>\n",
       "      <td>0.000000</td>\n",
       "      <td>1.00000</td>\n",
       "      <td>0.000000</td>\n",
       "      <td>0.0</td>\n",
       "      <td>0.0</td>\n",
       "      <td>...</td>\n",
       "      <td>42.000000</td>\n",
       "      <td>2200.000000</td>\n",
       "      <td>4.706452</td>\n",
       "      <td>0.0</td>\n",
       "      <td>0.0</td>\n",
       "      <td>0.0</td>\n",
       "      <td>0.0</td>\n",
       "      <td>0.0</td>\n",
       "      <td>0.0</td>\n",
       "      <td>0.0</td>\n",
       "    </tr>\n",
       "    <tr>\n",
       "      <th>9</th>\n",
       "      <td>245.0</td>\n",
       "      <td>48.0</td>\n",
       "      <td>100.0</td>\n",
       "      <td>1.017439</td>\n",
       "      <td>1.02449</td>\n",
       "      <td>0.438017</td>\n",
       "      <td>0.16763</td>\n",
       "      <td>0.213043</td>\n",
       "      <td>0.0</td>\n",
       "      <td>0.0</td>\n",
       "      <td>...</td>\n",
       "      <td>19.000000</td>\n",
       "      <td>7200.000000</td>\n",
       "      <td>2.600000</td>\n",
       "      <td>1.0</td>\n",
       "      <td>0.0</td>\n",
       "      <td>1.0</td>\n",
       "      <td>0.0</td>\n",
       "      <td>0.0</td>\n",
       "      <td>0.0</td>\n",
       "      <td>0.0</td>\n",
       "    </tr>\n",
       "  </tbody>\n",
       "</table>\n",
       "<p>10 rows × 26 columns</p>\n",
       "</div>"
      ],
      "text/plain": [
       "      id   age     bp        sg       al        su      rbc        pc  pcc  \\\n",
       "0  157.0  62.0   70.0  1.025000  3.00000  0.000000  0.00000  1.000000  0.0   \n",
       "1  109.0  54.0   70.0  1.017439  1.02449  0.438017  0.16763  0.213043  0.0   \n",
       "2   17.0  47.0   80.0  1.017439  1.02449  0.438017  0.16763  0.213043  0.0   \n",
       "3  347.0  43.0   60.0  1.025000  0.00000  0.000000  0.00000  0.000000  0.0   \n",
       "4   24.0  42.0  100.0  1.015000  4.00000  0.000000  0.00000  1.000000  0.0   \n",
       "5  175.0  60.0   50.0  1.010000  0.00000  0.000000  0.16763  0.000000  0.0   \n",
       "6  351.0  29.0   80.0  1.020000  0.00000  0.000000  0.00000  0.000000  0.0   \n",
       "7  332.0  34.0   70.0  1.025000  0.00000  0.000000  0.00000  0.000000  0.0   \n",
       "8  167.0  34.0   70.0  1.020000  0.00000  0.000000  1.00000  0.000000  0.0   \n",
       "9  245.0  48.0  100.0  1.017439  1.02449  0.438017  0.16763  0.213043  0.0   \n",
       "\n",
       "    ba  ...        pcv            wc        rc  htn   dm  cad  appet   pe  \\\n",
       "0  0.0  ...  39.000000   7900.000000  3.900000  1.0  1.0  0.0    1.0  0.0   \n",
       "1  0.0  ...  39.165939   8354.950495  4.706452  0.0  1.0  0.0    1.0  0.0   \n",
       "2  0.0  ...  39.165939   8354.950495  4.706452  1.0  0.0  0.0    0.0  0.0   \n",
       "3  0.0  ...  43.000000   7200.000000  5.500000  0.0  0.0  0.0    1.0  0.0   \n",
       "4  1.0  ...  39.000000   8300.000000  4.600000  1.0  0.0  0.0    0.0  0.0   \n",
       "5  0.0  ...  39.165939   4200.000000  3.400000  1.0  0.0  0.0    1.0  0.0   \n",
       "6  0.0  ...  40.000000   9900.000000  4.700000  0.0  0.0  0.0    1.0  0.0   \n",
       "7  0.0  ...  44.000000  10500.000000  6.100000  0.0  0.0  0.0    1.0  0.0   \n",
       "8  0.0  ...  42.000000   2200.000000  4.706452  0.0  0.0  0.0    0.0  0.0   \n",
       "9  0.0  ...  19.000000   7200.000000  2.600000  1.0  0.0  1.0    0.0  0.0   \n",
       "\n",
       "   ane  classification  \n",
       "0  0.0             0.0  \n",
       "1  0.0             0.0  \n",
       "2  0.0             0.0  \n",
       "3  0.0             1.0  \n",
       "4  0.0             0.0  \n",
       "5  0.0             0.0  \n",
       "6  0.0             1.0  \n",
       "7  0.0             1.0  \n",
       "8  0.0             0.0  \n",
       "9  0.0             0.0  \n",
       "\n",
       "[10 rows x 26 columns]"
      ]
     },
     "execution_count": 245,
     "metadata": {},
     "output_type": "execute_result"
    }
   ],
   "source": [
    "data_mean.head(10)"
   ]
  },
  {
   "cell_type": "code",
   "execution_count": 108,
   "id": "db6fdf06",
   "metadata": {
    "scrolled": true
   },
   "outputs": [],
   "source": [
    "data.select_dtypes(include=['object'])\n",
    "#data = data.astype(float)\n",
    "data['wc'] = pd.to_numeric(data['wc'], errors='coerce')\n",
    "data['cad'] = pd.to_numeric(data[''], errors='coerce')"
   ]
  },
  {
   "cell_type": "markdown",
   "id": "755563e5",
   "metadata": {},
   "source": [
    "Unele coloane dupa modificare au ramas de tip object,si am folosit to_numeric"
   ]
  },
  {
   "cell_type": "code",
   "execution_count": 111,
   "id": "964ea70e",
   "metadata": {},
   "outputs": [
    {
     "data": {
      "text/plain": [
       "id                  int64\n",
       "age               float64\n",
       "bp                float64\n",
       "sg                float64\n",
       "al                float64\n",
       "su                float64\n",
       "rbc               float64\n",
       "pc                float64\n",
       "pcc               float64\n",
       "ba                float64\n",
       "bgr               float64\n",
       "bu                float64\n",
       "sc                float64\n",
       "sod               float64\n",
       "pot               float64\n",
       "hemo              float64\n",
       "pcv               float64\n",
       "wc                float64\n",
       "rc                float64\n",
       "htn               float64\n",
       "dm                float64\n",
       "cad               float64\n",
       "appet               int64\n",
       "pe                  int64\n",
       "ane                 int64\n",
       "classification      int64\n",
       "dtype: object"
      ]
     },
     "execution_count": 111,
     "metadata": {},
     "output_type": "execute_result"
    }
   ],
   "source": [
    "data.dtypes"
   ]
  },
  {
   "cell_type": "code",
   "execution_count": 112,
   "id": "fd230544",
   "metadata": {},
   "outputs": [
    {
     "data": {
      "text/plain": [
       "Index(['id', 'age', 'bp', 'sg', 'al', 'su', 'rbc', 'pc', 'pcc', 'ba', 'bgr',\n",
       "       'bu', 'sc', 'sod', 'pot', 'hemo', 'pcv', 'wc', 'rc', 'htn', 'dm', 'cad',\n",
       "       'appet', 'pe', 'ane', 'classification'],\n",
       "      dtype='object')"
      ]
     },
     "execution_count": 112,
     "metadata": {},
     "output_type": "execute_result"
    }
   ],
   "source": [
    "data.columns"
   ]
  },
  {
   "cell_type": "code",
   "execution_count": null,
   "id": "e819e353",
   "metadata": {},
   "outputs": [],
   "source": []
  },
  {
   "cell_type": "code",
   "execution_count": 113,
   "id": "273bef02",
   "metadata": {
    "scrolled": true
   },
   "outputs": [
    {
     "name": "stdout",
     "output_type": "stream",
     "text": [
      "<class 'pandas.core.frame.DataFrame'>\n",
      "RangeIndex: 280 entries, 0 to 279\n",
      "Data columns (total 26 columns):\n",
      " #   Column          Non-Null Count  Dtype  \n",
      "---  ------          --------------  -----  \n",
      " 0   id              280 non-null    int64  \n",
      " 1   age             275 non-null    float64\n",
      " 2   bp              271 non-null    float64\n",
      " 3   sg              244 non-null    float64\n",
      " 4   al              245 non-null    float64\n",
      " 5   su              242 non-null    float64\n",
      " 6   rbc             173 non-null    float64\n",
      " 7   pc              230 non-null    float64\n",
      " 8   pcc             276 non-null    float64\n",
      " 9   ba              276 non-null    float64\n",
      " 10  bgr             247 non-null    float64\n",
      " 11  bu              266 non-null    float64\n",
      " 12  sc              268 non-null    float64\n",
      " 13  sod             213 non-null    float64\n",
      " 14  pot             212 non-null    float64\n",
      " 15  hemo            241 non-null    float64\n",
      " 16  pcv             229 non-null    float64\n",
      " 17  wc              202 non-null    float64\n",
      " 18  rc              186 non-null    float64\n",
      " 19  htn             279 non-null    float64\n",
      " 20  dm              274 non-null    float64\n",
      " 21  cad             277 non-null    float64\n",
      " 22  appet           280 non-null    int64  \n",
      " 23  pe              280 non-null    int64  \n",
      " 24  ane             280 non-null    int64  \n",
      " 25  classification  280 non-null    int64  \n",
      "dtypes: float64(21), int64(5)\n",
      "memory usage: 57.0 KB\n"
     ]
    }
   ],
   "source": [
    "data_mean.info()"
   ]
  },
  {
   "cell_type": "code",
   "execution_count": 114,
   "id": "72ec6d53",
   "metadata": {},
   "outputs": [
    {
     "name": "stdout",
     "output_type": "stream",
     "text": [
      " \n",
      "Count total NaN at each column in a DataFrame : \n",
      "\n",
      " id                  0\n",
      "age                 5\n",
      "bp                  9\n",
      "sg                 36\n",
      "al                 35\n",
      "su                 38\n",
      "rbc               107\n",
      "pc                 50\n",
      "pcc                 4\n",
      "ba                  4\n",
      "bgr                33\n",
      "bu                 14\n",
      "sc                 12\n",
      "sod                67\n",
      "pot                68\n",
      "hemo               39\n",
      "pcv                51\n",
      "wc                 78\n",
      "rc                 94\n",
      "htn                 1\n",
      "dm                  6\n",
      "cad                 3\n",
      "appet               0\n",
      "pe                  0\n",
      "ane                 0\n",
      "classification      0\n",
      "dtype: int64\n"
     ]
    }
   ],
   "source": [
    "print(\" \\nCount total NaN at each column in a DataFrame : \\n\\n\",\n",
    "      data_mean.isnull().sum())"
   ]
  },
  {
   "cell_type": "markdown",
   "id": "245cc0fe",
   "metadata": {},
   "source": [
    "### Multe date lipsesc"
   ]
  },
  {
   "cell_type": "code",
   "execution_count": 3,
   "id": "65e5ff95",
   "metadata": {},
   "outputs": [],
   "source": [
    "from sklearn.impute import SimpleImputer\n",
    "from sklearn.experimental import enable_iterative_imputer\n",
    "from sklearn.impute import IterativeImputer\n",
    "from sklearn.impute import KNNImputer\n",
    "mean_imp = SimpleImputer(missing_values=np.nan, strategy='mean')\n",
    "median_imp = SimpleImputer(missing_values=np.nan, strategy='median')\n",
    "mode_imp = SimpleImputer(missing_values=np.nan, strategy='most_frequent')\n",
    "const_imp = SimpleImputer(missing_values=np.nan, strategy='constant',fill_value = 0)\n",
    "imp_mean = IterativeImputer(random_state=0)\n",
    "knn_imp = KNNImputer(n_neighbors=3) #mean de la vecinii cu 3 pozitii departare"
   ]
  },
  {
   "cell_type": "code",
   "execution_count": 116,
   "id": "b12075e0",
   "metadata": {},
   "outputs": [],
   "source": [
    "data_knn = pd.DataFrame(knn_imp.fit_transform(data_knn),columns = data_knn.columns)"
   ]
  },
  {
   "cell_type": "code",
   "execution_count": 117,
   "id": "d5029a77",
   "metadata": {},
   "outputs": [],
   "source": [
    "data_mean =pd.DataFrame(mean_imp.fit_transform(data_mean),columns = data_mean.columns)"
   ]
  },
  {
   "cell_type": "code",
   "execution_count": 118,
   "id": "1d4d3595",
   "metadata": {},
   "outputs": [],
   "source": [
    "data_median =pd.DataFrame(median_imp.fit_transform(data_median),columns = data_median.columns)"
   ]
  },
  {
   "cell_type": "code",
   "execution_count": 119,
   "id": "5fcf2b01",
   "metadata": {},
   "outputs": [],
   "source": [
    "data_mode =pd.DataFrame(mode_imp.fit_transform(data_mode),columns = data_mode.columns)"
   ]
  },
  {
   "cell_type": "code",
   "execution_count": 120,
   "id": "75c405fc",
   "metadata": {},
   "outputs": [],
   "source": [
    "data_constant =pd.DataFrame(const_imp.fit_transform(data_constant),columns = data_constant.columns)"
   ]
  },
  {
   "cell_type": "code",
   "execution_count": 121,
   "id": "7d614397",
   "metadata": {},
   "outputs": [],
   "source": [
    "data_interactiv =pd.DataFrame(imp_mean.fit_transform(data_interactiv),columns = data_interactiv.columns)"
   ]
  },
  {
   "cell_type": "code",
   "execution_count": 130,
   "id": "a52027f1",
   "metadata": {},
   "outputs": [
    {
     "data": {
      "text/plain": [
       "id                0\n",
       "age               0\n",
       "bp                0\n",
       "sg                0\n",
       "al                0\n",
       "su                0\n",
       "rbc               0\n",
       "pc                0\n",
       "pcc               0\n",
       "ba                0\n",
       "bgr               0\n",
       "bu                0\n",
       "sc                0\n",
       "sod               0\n",
       "pot               0\n",
       "hemo              0\n",
       "pcv               0\n",
       "wc                0\n",
       "rc                0\n",
       "htn               0\n",
       "dm                0\n",
       "cad               0\n",
       "appet             0\n",
       "pe                0\n",
       "ane               0\n",
       "classification    0\n",
       "dtype: int64"
      ]
     },
     "execution_count": 130,
     "metadata": {},
     "output_type": "execute_result"
    }
   ],
   "source": [
    "data_mean.isnull().sum()"
   ]
  },
  {
   "cell_type": "markdown",
   "id": "17f8d8c4",
   "metadata": {},
   "source": [
    "### Observam ca toate valorile care lipsesc au fost substituite\n"
   ]
  },
  {
   "cell_type": "markdown",
   "id": "ef66caea",
   "metadata": {},
   "source": [
    "## SimpleInputer MEAN"
   ]
  },
  {
   "cell_type": "code",
   "execution_count": 237,
   "id": "c1fd1480",
   "metadata": {},
   "outputs": [
    {
     "name": "stdout",
     "output_type": "stream",
     "text": [
      "[0.00938441 0.0110584  0.1528546  0.08121916 0.01415105 0.11972303\n",
      " 0.03960934 0.00464661 0.00184146 0.02199654 0.01924602 0.01050698\n",
      " 0.01289628 0.00545784 0.07199158 0.06238863 0.00592188 0.03613181\n",
      " 0.13138261 0.10331658 0.00230198 0.04426023 0.02643785 0.01127509]\n"
     ]
    },
    {
     "data": {
      "text/plain": [
       "<AxesSubplot:>"
      ]
     },
     "execution_count": 237,
     "metadata": {},
     "output_type": "execute_result"
    },
    {
     "data": {
      "image/png": "[encoded data removed]",
      "text/plain": [
       "<Figure size 432x288 with 1 Axes>"
      ]
     },
     "metadata": {
      "needs_background": "light"
     },
     "output_type": "display_data"
    }
   ],
   "source": [
    "from sklearn import preprocessing\n",
    "from sklearn import utils\n",
    "\n",
    "\n",
    "X_mean = data_mean.iloc[:,1:25]  \n",
    "y_mean = data_mean.iloc[:,-1]  \n",
    "lab = preprocessing.LabelEncoder()\n",
    "y_mean = lab.fit_transform(y_mean)\n",
    "\n",
    "model = ExtraTreesClassifier()\n",
    "model.fit(X_mean,y_mean)\n",
    "print(model.feature_importances_) \n",
    "feature_cols = pd.Series(model.feature_importances_, index=X_mean.columns)\n",
    "feature_cols.nlargest(len(data.columns)).plot(kind='barh', color = 'red')\n",
    "#plt.show()"
   ]
  },
  {
   "cell_type": "markdown",
   "id": "25f77a27",
   "metadata": {},
   "source": [
    "### Observam ca cea mai mare corelatie le au coloanele Hemo si pcv\n",
    "Incepem antrenarea modelellor"
   ]
  },
  {
   "cell_type": "code",
   "execution_count": 238,
   "id": "397c5bdf",
   "metadata": {},
   "outputs": [],
   "source": [
    "y = data_mean['classification']\n",
    "X = data_mean.drop(['classification','ba','cad','pcc','pc','su','pot','wc','age','bu','bp','bgr'],axis=1)"
   ]
  },
  {
   "cell_type": "code",
   "execution_count": 239,
   "id": "25894537",
   "metadata": {},
   "outputs": [],
   "source": [
    "from sklearn.model_selection import train_test_split\n",
    "from sklearn.metrics import accuracy_score\n",
    "X_data, y_data = X, y\n",
    "X, X_test, y, y_test = train_test_split(X_data, y_data, test_size = 0.3, stratify=y_data, random_state=0)\n",
    "X_train, X_valid, y_train, y_valid = train_test_split(X, y, test_size = 0.3, stratify=y, random_state=0)"
   ]
  },
  {
   "cell_type": "code",
   "execution_count": 240,
   "id": "889fa4bb",
   "metadata": {},
   "outputs": [],
   "source": [
    "from sklearn.preprocessing import StandardScaler\n",
    "scaler = StandardScaler()\n",
    "X_train = scaler.fit_transform(X_train)\n",
    "X_test = scaler.transform(X_test)"
   ]
  },
  {
   "cell_type": "code",
   "execution_count": 242,
   "id": "a8cbd231",
   "metadata": {},
   "outputs": [
    {
     "name": "stdout",
     "output_type": "stream",
     "text": [
      "simpleImputer mean strategy accuracy : 100.0%\n"
     ]
    }
   ],
   "source": [
    "from sklearn.linear_model import LogisticRegression\n",
    "lr = LogisticRegression()\n",
    "\n",
    "model = lr.fit(X_train, y_train)\n",
    "lr_predict = lr.predict(X_test)\n",
    "lr_acc_score = accuracy_score(y_test, lr_predict)\n",
    "print(f\"simpleImputer mean strategy accuracy : {lr_acc_score*100}%\")"
   ]
  },
  {
   "cell_type": "markdown",
   "id": "2fa62ac9",
   "metadata": {},
   "source": [
    "## SimpleInputer median"
   ]
  },
  {
   "cell_type": "code",
   "execution_count": 197,
   "id": "e5ffacc3",
   "metadata": {},
   "outputs": [
    {
     "name": "stdout",
     "output_type": "stream",
     "text": [
      "[0.01062199 0.01230045 0.16239939 0.08035807 0.01363046 0.01239754\n",
      " 0.01974998 0.00705754 0.002016   0.0258593  0.0187711  0.02387498\n",
      " 0.01629137 0.0068694  0.08197674 0.06757084 0.00514175 0.03262121\n",
      " 0.16890221 0.12392473 0.00244763 0.06001182 0.03256677 0.01263874]\n"
     ]
    },
    {
     "data": {
      "text/plain": [
       "<AxesSubplot:>"
      ]
     },
     "execution_count": 197,
     "metadata": {},
     "output_type": "execute_result"
    },
    {
     "data": {
      "image/png": "[encoded data removed]",
      "text/plain": [
       "<Figure size 432x288 with 1 Axes>"
      ]
     },
     "metadata": {
      "needs_background": "light"
     },
     "output_type": "display_data"
    }
   ],
   "source": [
    "X_median = data_median.iloc[:,1:25]  \n",
    "y_median = data_median.iloc[:,-1]  \n",
    "lab = preprocessing.LabelEncoder()\n",
    "y_median = lab.fit_transform(y_median)\n",
    "\n",
    "model = ExtraTreesClassifier()\n",
    "model.fit(X_median,y_median)\n",
    "print(model.feature_importances_) \n",
    "feature_cols = pd.Series(model.feature_importances_, index=X_mean.columns)\n",
    "feature_cols.nlargest(len(data.columns)).plot(kind='barh', color = 'blue')"
   ]
  },
  {
   "cell_type": "markdown",
   "id": "dfbc17d0",
   "metadata": {},
   "source": [
    "#### Putem observa ca in comparate cu strategia \"mean\"  cea mediana are un contrast mai mare intre corelatii, unde cele primele corelatii din al-2-lea grafic au valori mai mici fata de primul grafic,iar ultima corelatie ajunge la 0.16, in comparatie cu aprox 0,14 in primul grafic, reiesind din acest grafic vom folosi mai putine date cu corelatie mai mare,in comparatie cu metoda precedenta.\n"
   ]
  },
  {
   "cell_type": "code",
   "execution_count": 198,
   "id": "8973960f",
   "metadata": {},
   "outputs": [],
   "source": [
    "y_median = data_median['classification']\n",
    "X_median = data_median.drop(['classification','ba','cad','pcc','su','pot','wc','age','bu','bp','bgr','sc','sod','pe','rbc','rc',''],axis=1)"
   ]
  },
  {
   "cell_type": "code",
   "execution_count": 214,
   "id": "861e5461",
   "metadata": {},
   "outputs": [
    {
     "name": "stdout",
     "output_type": "stream",
     "text": [
      "simpleImputer median strategy accuracy : 100.0%\n"
     ]
    }
   ],
   "source": [
    "X_data, y_data = X_median, y_median\n",
    "X, X_test, y, y_test = train_test_split(X_data, y_data, test_size = 0.3, stratify=y_data, random_state=0)\n",
    "X_train, X_valid, y_train, y_valid = train_test_split(X, y, test_size = 0.3, stratify=y, random_state=0)\n",
    "scaler = StandardScaler()\n",
    "X_train = scaler.fit_transform(X_train)\n",
    "X_test = scaler.transform(X_test)\n",
    "lr = LogisticRegression()\n",
    "\n",
    "model = lr.fit(X_train, y_train)\n",
    "lr_predict = lr.predict(X_test)\n",
    "lr_acc_score = accuracy_score(y_test, lr_predict)\n",
    "print(f\"simpleImputer median strategy accuracy : {lr_acc_score*100}%\")"
   ]
  },
  {
   "cell_type": "code",
   "execution_count": 179,
   "id": "f49bddc0",
   "metadata": {},
   "outputs": [
    {
     "data": {
      "text/plain": [
       "26"
      ]
     },
     "execution_count": 179,
     "metadata": {},
     "output_type": "execute_result"
    }
   ],
   "source": [
    "len(data.columns)"
   ]
  },
  {
   "cell_type": "markdown",
   "id": "e75f28a6",
   "metadata": {},
   "source": [
    "## Simple Imputer mode"
   ]
  },
  {
   "cell_type": "code",
   "execution_count": 196,
   "id": "dc52febd",
   "metadata": {
    "scrolled": true
   },
   "outputs": [
    {
     "name": "stdout",
     "output_type": "stream",
     "text": [
      "[0.0113271  0.01881351 0.18181318 0.08087721 0.00750584 0.0118742\n",
      " 0.02672742 0.0068198  0.00148589 0.02287633 0.00941578 0.03003483\n",
      " 0.02168226 0.00656    0.06305576 0.05076109 0.00521519 0.05888563\n",
      " 0.15268197 0.11994052 0.00321646 0.06176752 0.03237661 0.01428592]\n"
     ]
    },
    {
     "data": {
      "text/plain": [
       "<AxesSubplot:>"
      ]
     },
     "execution_count": 196,
     "metadata": {},
     "output_type": "execute_result"
    },
    {
     "data": {
      "image/png": "[encoded data removed]",
      "text/plain": [
       "<Figure size 432x288 with 1 Axes>"
      ]
     },
     "metadata": {
      "needs_background": "light"
     },
     "output_type": "display_data"
    }
   ],
   "source": [
    "X_mode = data_mode.iloc[:,1:25]  \n",
    "y_mode = data_mode.iloc[:,-1]  \n",
    "lab = preprocessing.LabelEncoder()\n",
    "y_mode = lab.fit_transform(y_mode)\n",
    "\n",
    "model = ExtraTreesClassifier()\n",
    "model.fit(X_mode,y_mode)\n",
    "print(model.feature_importances_) \n",
    "feature_cols = pd.Series(model.feature_importances_, index=X_mean.columns)\n",
    "feature_cols.nlargest(len(data.columns)).plot(kind='barh', color = 'green')"
   ]
  },
  {
   "cell_type": "markdown",
   "id": "24f44c64",
   "metadata": {},
   "source": [
    "#### Aici putem observa diferente mai putine coloane cu corelatii mari"
   ]
  },
  {
   "cell_type": "code",
   "execution_count": 184,
   "id": "50b5dcd0",
   "metadata": {},
   "outputs": [],
   "source": [
    "y = data_mode['classification']\n",
    "X = data_mode.drop(['classification','ba','cad','pcc','su','pot','wc','age','bu','bp','bgr','sc','sod','ane','pe'],axis=1)"
   ]
  },
  {
   "cell_type": "code",
   "execution_count": 187,
   "id": "03cc7737",
   "metadata": {},
   "outputs": [
    {
     "name": "stdout",
     "output_type": "stream",
     "text": [
      "simpleImputer mode strategy accuracy : 92.85714285714286%\n"
     ]
    }
   ],
   "source": [
    "X_data, y_data = X, y\n",
    "X, X_test, y, y_test = train_test_split(X_data, y_data, test_size = 0.3, stratify=y_data, random_state=0)\n",
    "X_train, X_valid, y_train, y_valid = train_test_split(X, y, test_size = 0.3, stratify=y, random_state=0)\n",
    "scaler = StandardScaler()\n",
    "X_train = scaler.fit_transform(X_train)\n",
    "X_test = scaler.transform(X_test)\n",
    "lr = LogisticRegression()\n",
    "\n",
    "model = lr.fit(X_train, y_train)\n",
    "lr_predict = lr.predict(X_test)\n",
    "lr_acc_score = accuracy_score(y_test, lr_predict)\n",
    "print(f\"simpleImputer mode strategy accuracy : {lr_acc_score*100}%\")"
   ]
  },
  {
   "cell_type": "markdown",
   "id": "bfb2660d",
   "metadata": {},
   "source": [
    "#### Putem observa ca acuratetia este mai mica"
   ]
  },
  {
   "cell_type": "code",
   "execution_count": 195,
   "id": "aac905f5",
   "metadata": {},
   "outputs": [
    {
     "name": "stdout",
     "output_type": "stream",
     "text": [
      "[0.01283743 0.00884862 0.02638886 0.09675341 0.00997561 0.01422746\n",
      " 0.03325201 0.00470825 0.00159497 0.01516818 0.0191848  0.03362509\n",
      " 0.05605672 0.02353335 0.06504114 0.06782418 0.02074863 0.11724778\n",
      " 0.14509164 0.14309668 0.00222029 0.04461016 0.0256544  0.01231035]\n"
     ]
    },
    {
     "data": {
      "text/plain": [
       "<AxesSubplot:>"
      ]
     },
     "execution_count": 195,
     "metadata": {},
     "output_type": "execute_result"
    },
    {
     "data": {
      "image/png": "[encoded data removed]",
      "text/plain": [
       "<Figure size 432x288 with 1 Axes>"
      ]
     },
     "metadata": {
      "needs_background": "light"
     },
     "output_type": "display_data"
    }
   ],
   "source": [
    "X_constant = data_constant.iloc[:,1:25]  \n",
    "y_constant = data_constant.iloc[:,-1]  \n",
    "lab = preprocessing.LabelEncoder()\n",
    "y_constant = lab.fit_transform(y_constant)\n",
    "\n",
    "model = ExtraTreesClassifier()\n",
    "model.fit(X_constant,y_constant)\n",
    "print(model.feature_importances_) \n",
    "feature_cols = pd.Series(model.feature_importances_, index=X_mean.columns)\n",
    "feature_cols.nlargest(len(data.columns)).plot(kind='barh', color = 'blue')"
   ]
  },
  {
   "cell_type": "code",
   "execution_count": 218,
   "id": "b4ebafae",
   "metadata": {},
   "outputs": [],
   "source": [
    "y = data_constant['classification']\n",
    "X = data_constant.drop(['classification','ba','cad','pcc','su','pot','wc','age','bu','bp','bgr','sc','sod','ane','pe','rbc','sg'],axis=1)"
   ]
  },
  {
   "cell_type": "code",
   "execution_count": 219,
   "id": "ed34cbba",
   "metadata": {},
   "outputs": [
    {
     "name": "stdout",
     "output_type": "stream",
     "text": [
      "simpleImputer constant strategy accuracy : 98.80952380952381%\n"
     ]
    }
   ],
   "source": [
    "X_data, y_data = X, y\n",
    "X, X_test, y, y_test = train_test_split(X_data, y_data, test_size = 0.3, stratify=y_data, random_state=0)\n",
    "X_train, X_valid, y_train, y_valid = train_test_split(X, y, test_size = 0.3, stratify=y, random_state=0)\n",
    "scaler = StandardScaler()\n",
    "X_train = scaler.fit_transform(X_train)\n",
    "X_test = scaler.transform(X_test)\n",
    "lr = LogisticRegression()\n",
    "\n",
    "model = lr.fit(X_train, y_train)\n",
    "lr_predict = lr.predict(X_test)\n",
    "lr_acc_score = accuracy_score(y_test, lr_predict)\n",
    "print(f\"simpleImputer constant strategy accuracy : {lr_acc_score*100}%\")"
   ]
  },
  {
   "cell_type": "code",
   "execution_count": 217,
   "id": "ea1e0452",
   "metadata": {},
   "outputs": [
    {
     "name": "stdout",
     "output_type": "stream",
     "text": [
      "[0.00351964 0.00907144 0.16291643 0.07206038 0.01206612 0.13641896\n",
      " 0.04778102 0.00491133 0.00181624 0.01889809 0.0091547  0.01212276\n",
      " 0.00721662 0.00274662 0.09382864 0.09113529 0.00398521 0.03494377\n",
      " 0.08846629 0.10727019 0.00144688 0.04330454 0.02441882 0.01050002]\n"
     ]
    },
    {
     "data": {
      "text/plain": [
       "<AxesSubplot:>"
      ]
     },
     "execution_count": 217,
     "metadata": {},
     "output_type": "execute_result"
    },
    {
     "data": {
      "image/png": "[encoded data removed]",
      "text/plain": [
       "<Figure size 432x288 with 1 Axes>"
      ]
     },
     "metadata": {
      "needs_background": "light"
     },
     "output_type": "display_data"
    }
   ],
   "source": [
    "X_interactiv = data_interactiv.iloc[:,1:25]  \n",
    "y_interactiv = data_interactiv.iloc[:,-1]  \n",
    "lab = preprocessing.LabelEncoder()\n",
    "y_interactiv = lab.fit_transform(y_interactiv)\n",
    "\n",
    "model = ExtraTreesClassifier()\n",
    "model.fit(X_interactiv,y_interactiv)\n",
    "print(model.feature_importances_) \n",
    "feature_cols = pd.Series(model.feature_importances_, index=X_mean.columns)\n",
    "feature_cols.nlargest(len(data.columns)).plot(kind='barh', color = 'blue')"
   ]
  },
  {
   "cell_type": "markdown",
   "id": "5b8296b1",
   "metadata": {},
   "source": [
    "#### Putem observa o diferenta mare intre unele corelatii, careva fiind aproape nesemnificative"
   ]
  },
  {
   "cell_type": "code",
   "execution_count": 224,
   "id": "0e86de2e",
   "metadata": {},
   "outputs": [],
   "source": [
    "y = data_interactiv['classification']\n",
    "X = data_interactiv.drop(['classification','ba','cad','pcc','su','pot','wc','age','bu','bp','bgr','sc','sod','ane','pe','rbc','sg','pc','appet'],axis=1)"
   ]
  },
  {
   "cell_type": "code",
   "execution_count": 229,
   "id": "ebd88f20",
   "metadata": {},
   "outputs": [
    {
     "name": "stdout",
     "output_type": "stream",
     "text": [
      " interactiv inputer accuracy : 96.55172413793103%\n"
     ]
    }
   ],
   "source": [
    "X_data, y_data = X, y\n",
    "X, X_test, y, y_test = train_test_split(X_data, y_data, test_size = 0.3, stratify=y_data, random_state=0)\n",
    "X_train, X_valid, y_train, y_valid = train_test_split(X, y, test_size = 0.3, stratify=y, random_state=0)\n",
    "scaler = StandardScaler()\n",
    "X_train = scaler.fit_transform(X_train)\n",
    "X_test = scaler.transform(X_test)\n",
    "lr = LogisticRegression()\n",
    "\n",
    "model = lr.fit(X_train, y_train)\n",
    "lr_predict = lr.predict(X_test)\n",
    "lr_acc_score = accuracy_score(y_test, lr_predict)\n",
    "print(f\" interactiv inputer accuracy : {lr_acc_score*100}%\")"
   ]
  },
  {
   "cell_type": "code",
   "execution_count": 230,
   "id": "34dd32b6",
   "metadata": {},
   "outputs": [
    {
     "name": "stdout",
     "output_type": "stream",
     "text": [
      "[0.00368034 0.00953624 0.11596613 0.11331945 0.01398707 0.16439034\n",
      " 0.04041397 0.00322265 0.00151301 0.02822944 0.00914824 0.02233942\n",
      " 0.0085824  0.00218371 0.05829474 0.08098108 0.00316858 0.03641093\n",
      " 0.13263219 0.08363603 0.00153534 0.03048825 0.03168023 0.00466021]\n"
     ]
    },
    {
     "data": {
      "text/plain": [
       "<AxesSubplot:>"
      ]
     },
     "execution_count": 230,
     "metadata": {},
     "output_type": "execute_result"
    },
    {
     "data": {
      "image/png": "[encoded data removed]",
      "text/plain": [
       "<Figure size 432x288 with 1 Axes>"
      ]
     },
     "metadata": {
      "needs_background": "light"
     },
     "output_type": "display_data"
    }
   ],
   "source": [
    "X_knn = data_knn.iloc[:,1:25]  \n",
    "y_knn= data_knn.iloc[:,-1]  \n",
    "lab = preprocessing.LabelEncoder()\n",
    "y_knn = lab.fit_transform(y_knn)\n",
    "\n",
    "model = ExtraTreesClassifier()\n",
    "model.fit(X_knn,y_knn)\n",
    "print(model.feature_importances_) \n",
    "feature_cols = pd.Series(model.feature_importances_, index=X_mean.columns)\n",
    "feature_cols.nlargest(len(data.columns)).plot(kind='barh', color = 'blue')"
   ]
  },
  {
   "cell_type": "markdown",
   "id": "7b3a1233",
   "metadata": {},
   "source": [
    "### Putem folosi mai putine coloane pentru antrenare, deoarece o mare parte din ele au o corelatie mica,ceea ce ne indica ca nu influenteaza mult antrenarea, iar timpul de afectuare a antrenarii este mai mic"
   ]
  },
  {
   "cell_type": "code",
   "execution_count": 231,
   "id": "a9fa2141",
   "metadata": {},
   "outputs": [],
   "source": [
    "y_knn = data_knn['classification']\n",
    "X_knn = data_knn.drop(['classification','ba','cad','pcc','su','pot','wc','age','bu','bp','bgr','sc','sod','ane','pe','rbc','sg','pc','appet','rc'],axis=1)"
   ]
  },
  {
   "cell_type": "code",
   "execution_count": 243,
   "id": "8a3e5a1b",
   "metadata": {},
   "outputs": [
    {
     "name": "stdout",
     "output_type": "stream",
     "text": [
      " knn inputer accuracy : 100.0%\n"
     ]
    }
   ],
   "source": [
    "X_data, y_data = X_knn, y_knn\n",
    "X, X_test, y, y_test = train_test_split(X_data, y_data, test_size = 0.3, stratify=y_data, random_state=0)\n",
    "X_train, X_valid, y_train, y_valid = train_test_split(X, y, test_size = 0.3, stratify=y, random_state=0)\n",
    "scaler = StandardScaler()\n",
    "X_train = scaler.fit_transform(X_train)\n",
    "X_test = scaler.transform(X_test)\n",
    "lr = LogisticRegression()\n",
    "\n",
    "model = lr.fit(X_train, y_train)\n",
    "lr_predict = lr.predict(X_test)\n",
    "lr_acc_score = accuracy_score(y_test, lr_predict)\n",
    "print(f\" knn inputer accuracy : {lr_acc_score*100}%\")"
   ]
  },
  {
   "cell_type": "markdown",
   "id": "605b803a",
   "metadata": {},
   "source": [
    "## In urma efectuarii aceste sarcini, m-am familiarizat cu diferite tipuri de inputeri,care sunt folosite pentru a inlocui valorile lipsa din dataseturi, am folosit SimpleImputer,prin 4 strategii: mean,mode,median,constant, inputer interactiv, si inputer knn, care are ca principiu de selectare a mediei intre un anumit numar de vecini. Iar in urma antrenarii, cele mai bune acurateti, au prezentat SimpleInputer cu strategia 'mean' si knn inputerul"
   ]
  },
  {
   "cell_type": "code",
   "execution_count": null,
   "id": "88950b4f",
   "metadata": {},
   "outputs": [],
   "source": []
  }
 ],
 "metadata": {
  "kernelspec": {
   "display_name": "Python 3 (ipykernel)",
   "language": "python",
   "name": "python3"
  },
  "language_info": {
   "codemirror_mode": {
    "name": "ipython",
    "version": 3
   },
   "file_extension": ".py",
   "mimetype": "text/x-python",
   "name": "python",
   "nbconvert_exporter": "python",
   "pygments_lexer": "ipython3",
   "version": "3.9.12"
  }
 },
 "nbformat": 4,
 "nbformat_minor": 5
}
