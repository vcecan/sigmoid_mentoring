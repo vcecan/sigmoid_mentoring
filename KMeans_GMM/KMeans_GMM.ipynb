{
 "cells": [
  {
   "cell_type": "code",
   "execution_count": 1,
   "id": "d9a4fee7",
   "metadata": {},
   "outputs": [],
   "source": [
    "import pandas as pd\n",
    "import numpy as np\n",
    "from sklearn.model_selection import train_test_split\n",
    "import matplotlib.pyplot as plt\n",
    "import seaborn as sns\n",
    "from sklearn.metrics import accuracy_score\n",
    "from sklearn.experimental import enable_iterative_imputer"
   ]
  },
  {
   "cell_type": "code",
   "execution_count": 2,
   "id": "7fb1d465",
   "metadata": {},
   "outputs": [],
   "source": [
    "#pip install imperio\n"
   ]
  },
  {
   "cell_type": "code",
   "execution_count": 3,
   "id": "7d4a8049",
   "metadata": {},
   "outputs": [],
   "source": [
    "#pip show imperio"
   ]
  },
  {
   "cell_type": "code",
   "execution_count": 4,
   "id": "b5e25ffc",
   "metadata": {},
   "outputs": [],
   "source": [
    "import imperio"
   ]
  },
  {
   "cell_type": "code",
   "execution_count": 5,
   "id": "d5977451",
   "metadata": {},
   "outputs": [],
   "source": [
    "data =pd.read_csv('Train.csv') \n",
    "test =pd.read_csv('Test.csv') "
   ]
  },
  {
   "cell_type": "code",
   "execution_count": 6,
   "id": "3519444d",
   "metadata": {},
   "outputs": [
    {
     "data": {
      "text/html": [
       "<div>\n",
       "<style scoped>\n",
       "    .dataframe tbody tr th:only-of-type {\n",
       "        vertical-align: middle;\n",
       "    }\n",
       "\n",
       "    .dataframe tbody tr th {\n",
       "        vertical-align: top;\n",
       "    }\n",
       "\n",
       "    .dataframe thead th {\n",
       "        text-align: right;\n",
       "    }\n",
       "</style>\n",
       "<table border=\"1\" class=\"dataframe\">\n",
       "  <thead>\n",
       "    <tr style=\"text-align: right;\">\n",
       "      <th></th>\n",
       "      <th>id</th>\n",
       "      <th>customer_age</th>\n",
       "      <th>job_type</th>\n",
       "      <th>marital</th>\n",
       "      <th>education</th>\n",
       "      <th>default</th>\n",
       "      <th>balance</th>\n",
       "      <th>housing_loan</th>\n",
       "      <th>personal_loan</th>\n",
       "      <th>communication_type</th>\n",
       "      <th>day_of_month</th>\n",
       "      <th>month</th>\n",
       "      <th>last_contact_duration</th>\n",
       "      <th>num_contacts_in_campaign</th>\n",
       "      <th>days_since_prev_campaign_contact</th>\n",
       "      <th>num_contacts_prev_campaign</th>\n",
       "      <th>prev_campaign_outcome</th>\n",
       "      <th>term_deposit_subscribed</th>\n",
       "    </tr>\n",
       "  </thead>\n",
       "  <tbody>\n",
       "    <tr>\n",
       "      <th>0</th>\n",
       "      <td>id_43823</td>\n",
       "      <td>28.0</td>\n",
       "      <td>management</td>\n",
       "      <td>single</td>\n",
       "      <td>tertiary</td>\n",
       "      <td>no</td>\n",
       "      <td>285.0</td>\n",
       "      <td>yes</td>\n",
       "      <td>no</td>\n",
       "      <td>unknown</td>\n",
       "      <td>26</td>\n",
       "      <td>jun</td>\n",
       "      <td>303.0</td>\n",
       "      <td>4.0</td>\n",
       "      <td>NaN</td>\n",
       "      <td>0</td>\n",
       "      <td>unknown</td>\n",
       "      <td>0</td>\n",
       "    </tr>\n",
       "    <tr>\n",
       "      <th>1</th>\n",
       "      <td>id_32289</td>\n",
       "      <td>34.0</td>\n",
       "      <td>blue-collar</td>\n",
       "      <td>married</td>\n",
       "      <td>secondary</td>\n",
       "      <td>no</td>\n",
       "      <td>934.0</td>\n",
       "      <td>no</td>\n",
       "      <td>yes</td>\n",
       "      <td>cellular</td>\n",
       "      <td>18</td>\n",
       "      <td>nov</td>\n",
       "      <td>143.0</td>\n",
       "      <td>2.0</td>\n",
       "      <td>132.0</td>\n",
       "      <td>1</td>\n",
       "      <td>other</td>\n",
       "      <td>0</td>\n",
       "    </tr>\n",
       "    <tr>\n",
       "      <th>2</th>\n",
       "      <td>id_10523</td>\n",
       "      <td>46.0</td>\n",
       "      <td>technician</td>\n",
       "      <td>married</td>\n",
       "      <td>secondary</td>\n",
       "      <td>no</td>\n",
       "      <td>656.0</td>\n",
       "      <td>no</td>\n",
       "      <td>no</td>\n",
       "      <td>cellular</td>\n",
       "      <td>5</td>\n",
       "      <td>feb</td>\n",
       "      <td>101.0</td>\n",
       "      <td>4.0</td>\n",
       "      <td>NaN</td>\n",
       "      <td>0</td>\n",
       "      <td>unknown</td>\n",
       "      <td>0</td>\n",
       "    </tr>\n",
       "    <tr>\n",
       "      <th>3</th>\n",
       "      <td>id_43951</td>\n",
       "      <td>34.0</td>\n",
       "      <td>services</td>\n",
       "      <td>single</td>\n",
       "      <td>secondary</td>\n",
       "      <td>no</td>\n",
       "      <td>2.0</td>\n",
       "      <td>yes</td>\n",
       "      <td>no</td>\n",
       "      <td>unknown</td>\n",
       "      <td>20</td>\n",
       "      <td>may</td>\n",
       "      <td>127.0</td>\n",
       "      <td>3.0</td>\n",
       "      <td>NaN</td>\n",
       "      <td>0</td>\n",
       "      <td>unknown</td>\n",
       "      <td>0</td>\n",
       "    </tr>\n",
       "    <tr>\n",
       "      <th>4</th>\n",
       "      <td>id_40992</td>\n",
       "      <td>41.0</td>\n",
       "      <td>blue-collar</td>\n",
       "      <td>married</td>\n",
       "      <td>primary</td>\n",
       "      <td>no</td>\n",
       "      <td>1352.0</td>\n",
       "      <td>yes</td>\n",
       "      <td>no</td>\n",
       "      <td>cellular</td>\n",
       "      <td>13</td>\n",
       "      <td>may</td>\n",
       "      <td>49.0</td>\n",
       "      <td>2.0</td>\n",
       "      <td>NaN</td>\n",
       "      <td>0</td>\n",
       "      <td>unknown</td>\n",
       "      <td>0</td>\n",
       "    </tr>\n",
       "    <tr>\n",
       "      <th>5</th>\n",
       "      <td>id_12681</td>\n",
       "      <td>65.0</td>\n",
       "      <td>retired</td>\n",
       "      <td>married</td>\n",
       "      <td>primary</td>\n",
       "      <td>no</td>\n",
       "      <td>2880.0</td>\n",
       "      <td>no</td>\n",
       "      <td>no</td>\n",
       "      <td>cellular</td>\n",
       "      <td>23</td>\n",
       "      <td>apr</td>\n",
       "      <td>163.0</td>\n",
       "      <td>1.0</td>\n",
       "      <td>NaN</td>\n",
       "      <td>0</td>\n",
       "      <td>unknown</td>\n",
       "      <td>1</td>\n",
       "    </tr>\n",
       "    <tr>\n",
       "      <th>6</th>\n",
       "      <td>id_41178</td>\n",
       "      <td>57.0</td>\n",
       "      <td>blue-collar</td>\n",
       "      <td>married</td>\n",
       "      <td>primary</td>\n",
       "      <td>no</td>\n",
       "      <td>495.0</td>\n",
       "      <td>no</td>\n",
       "      <td>no</td>\n",
       "      <td>cellular</td>\n",
       "      <td>18</td>\n",
       "      <td>aug</td>\n",
       "      <td>687.0</td>\n",
       "      <td>4.0</td>\n",
       "      <td>NaN</td>\n",
       "      <td>0</td>\n",
       "      <td>unknown</td>\n",
       "      <td>1</td>\n",
       "    </tr>\n",
       "    <tr>\n",
       "      <th>7</th>\n",
       "      <td>id_35102</td>\n",
       "      <td>37.0</td>\n",
       "      <td>management</td>\n",
       "      <td>married</td>\n",
       "      <td>tertiary</td>\n",
       "      <td>no</td>\n",
       "      <td>650.0</td>\n",
       "      <td>yes</td>\n",
       "      <td>NaN</td>\n",
       "      <td>unknown</td>\n",
       "      <td>26</td>\n",
       "      <td>may</td>\n",
       "      <td>210.0</td>\n",
       "      <td>1.0</td>\n",
       "      <td>NaN</td>\n",
       "      <td>0</td>\n",
       "      <td>unknown</td>\n",
       "      <td>0</td>\n",
       "    </tr>\n",
       "    <tr>\n",
       "      <th>8</th>\n",
       "      <td>id_34750</td>\n",
       "      <td>29.0</td>\n",
       "      <td>technician</td>\n",
       "      <td>married</td>\n",
       "      <td>secondary</td>\n",
       "      <td>no</td>\n",
       "      <td>265.0</td>\n",
       "      <td>yes</td>\n",
       "      <td>no</td>\n",
       "      <td>cellular</td>\n",
       "      <td>19</td>\n",
       "      <td>aug</td>\n",
       "      <td>160.0</td>\n",
       "      <td>2.0</td>\n",
       "      <td>NaN</td>\n",
       "      <td>0</td>\n",
       "      <td>unknown</td>\n",
       "      <td>0</td>\n",
       "    </tr>\n",
       "    <tr>\n",
       "      <th>9</th>\n",
       "      <td>id_1406</td>\n",
       "      <td>50.0</td>\n",
       "      <td>blue-collar</td>\n",
       "      <td>married</td>\n",
       "      <td>secondary</td>\n",
       "      <td>no</td>\n",
       "      <td>407.0</td>\n",
       "      <td>yes</td>\n",
       "      <td>yes</td>\n",
       "      <td>cellular</td>\n",
       "      <td>7</td>\n",
       "      <td>aug</td>\n",
       "      <td>233.0</td>\n",
       "      <td>2.0</td>\n",
       "      <td>NaN</td>\n",
       "      <td>0</td>\n",
       "      <td>unknown</td>\n",
       "      <td>0</td>\n",
       "    </tr>\n",
       "  </tbody>\n",
       "</table>\n",
       "</div>"
      ],
      "text/plain": [
       "         id  customer_age     job_type  marital  education default  balance  \\\n",
       "0  id_43823          28.0   management   single   tertiary      no    285.0   \n",
       "1  id_32289          34.0  blue-collar  married  secondary      no    934.0   \n",
       "2  id_10523          46.0   technician  married  secondary      no    656.0   \n",
       "3  id_43951          34.0     services   single  secondary      no      2.0   \n",
       "4  id_40992          41.0  blue-collar  married    primary      no   1352.0   \n",
       "5  id_12681          65.0      retired  married    primary      no   2880.0   \n",
       "6  id_41178          57.0  blue-collar  married    primary      no    495.0   \n",
       "7  id_35102          37.0   management  married   tertiary      no    650.0   \n",
       "8  id_34750          29.0   technician  married  secondary      no    265.0   \n",
       "9   id_1406          50.0  blue-collar  married  secondary      no    407.0   \n",
       "\n",
       "  housing_loan personal_loan communication_type  day_of_month month  \\\n",
       "0          yes            no            unknown            26   jun   \n",
       "1           no           yes           cellular            18   nov   \n",
       "2           no            no           cellular             5   feb   \n",
       "3          yes            no            unknown            20   may   \n",
       "4          yes            no           cellular            13   may   \n",
       "5           no            no           cellular            23   apr   \n",
       "6           no            no           cellular            18   aug   \n",
       "7          yes           NaN            unknown            26   may   \n",
       "8          yes            no           cellular            19   aug   \n",
       "9          yes           yes           cellular             7   aug   \n",
       "\n",
       "   last_contact_duration  num_contacts_in_campaign  \\\n",
       "0                  303.0                       4.0   \n",
       "1                  143.0                       2.0   \n",
       "2                  101.0                       4.0   \n",
       "3                  127.0                       3.0   \n",
       "4                   49.0                       2.0   \n",
       "5                  163.0                       1.0   \n",
       "6                  687.0                       4.0   \n",
       "7                  210.0                       1.0   \n",
       "8                  160.0                       2.0   \n",
       "9                  233.0                       2.0   \n",
       "\n",
       "   days_since_prev_campaign_contact  num_contacts_prev_campaign  \\\n",
       "0                               NaN                           0   \n",
       "1                             132.0                           1   \n",
       "2                               NaN                           0   \n",
       "3                               NaN                           0   \n",
       "4                               NaN                           0   \n",
       "5                               NaN                           0   \n",
       "6                               NaN                           0   \n",
       "7                               NaN                           0   \n",
       "8                               NaN                           0   \n",
       "9                               NaN                           0   \n",
       "\n",
       "  prev_campaign_outcome  term_deposit_subscribed  \n",
       "0               unknown                        0  \n",
       "1                 other                        0  \n",
       "2               unknown                        0  \n",
       "3               unknown                        0  \n",
       "4               unknown                        0  \n",
       "5               unknown                        1  \n",
       "6               unknown                        1  \n",
       "7               unknown                        0  \n",
       "8               unknown                        0  \n",
       "9               unknown                        0  "
      ]
     },
     "execution_count": 6,
     "metadata": {},
     "output_type": "execute_result"
    }
   ],
   "source": [
    "data.head(10)"
   ]
  },
  {
   "cell_type": "code",
   "execution_count": 7,
   "id": "11135a21",
   "metadata": {},
   "outputs": [
    {
     "name": "stdout",
     "output_type": "stream",
     "text": [
      "<class 'pandas.core.frame.DataFrame'>\n",
      "RangeIndex: 31647 entries, 0 to 31646\n",
      "Data columns (total 18 columns):\n",
      " #   Column                            Non-Null Count  Dtype  \n",
      "---  ------                            --------------  -----  \n",
      " 0   id                                31647 non-null  object \n",
      " 1   customer_age                      31028 non-null  float64\n",
      " 2   job_type                          31647 non-null  object \n",
      " 3   marital                           31497 non-null  object \n",
      " 4   education                         31647 non-null  object \n",
      " 5   default                           31647 non-null  object \n",
      " 6   balance                           31248 non-null  float64\n",
      " 7   housing_loan                      31647 non-null  object \n",
      " 8   personal_loan                     31498 non-null  object \n",
      " 9   communication_type                31647 non-null  object \n",
      " 10  day_of_month                      31647 non-null  int64  \n",
      " 11  month                             31647 non-null  object \n",
      " 12  last_contact_duration             31336 non-null  float64\n",
      " 13  num_contacts_in_campaign          31535 non-null  float64\n",
      " 14  days_since_prev_campaign_contact  5816 non-null   float64\n",
      " 15  num_contacts_prev_campaign        31647 non-null  int64  \n",
      " 16  prev_campaign_outcome             31647 non-null  object \n",
      " 17  term_deposit_subscribed           31647 non-null  int64  \n",
      "dtypes: float64(5), int64(3), object(10)\n",
      "memory usage: 4.3+ MB\n"
     ]
    }
   ],
   "source": [
    "data.info()\n"
   ]
  },
  {
   "cell_type": "code",
   "execution_count": 8,
   "id": "0098a3f1",
   "metadata": {},
   "outputs": [
    {
     "data": {
      "text/plain": [
       "<AxesSubplot:>"
      ]
     },
     "execution_count": 8,
     "metadata": {},
     "output_type": "execute_result"
    },
    {
     "data": {
      "image/png": "[encoded data removed]",
      "text/plain": [
       "<Figure size 1440x1440 with 2 Axes>"
      ]
     },
     "metadata": {
      "needs_background": "light"
     },
     "output_type": "display_data"
    }
   ],
   "source": [
    "plt.figure(figsize=(20,20))\n",
    "sns.heatmap(data.corr(),annot = True,cmap = 'coolwarm')"
   ]
  },
  {
   "cell_type": "markdown",
   "id": "af21cfd9",
   "metadata": {},
   "source": [
    "## Aducem coloanele in forma numerica"
   ]
  },
  {
   "cell_type": "code",
   "execution_count": 9,
   "id": "c3ea6f82",
   "metadata": {},
   "outputs": [],
   "source": [
    "data = data.replace(to_replace =[\"single\", \"married\",\"divorced\",\"primary\",\"secondary\",\"tertiary\",\"no\",\"yes\",\"unknown\",\"cellular\",\"telephone\",\"other\",\"failure\"], value =[0,1,2,0,1,2,0,1,0,1,2,1,2])\n"
   ]
  },
  {
   "cell_type": "code",
   "execution_count": 10,
   "id": "40587a0d",
   "metadata": {},
   "outputs": [],
   "source": [
    "data['marital'] = pd.to_numeric(data['marital'], errors='coerce')\n",
    "data['prev_campaign_outcome'] = pd.to_numeric(data['prev_campaign_outcome'], errors='coerce')"
   ]
  },
  {
   "cell_type": "code",
   "execution_count": 11,
   "id": "fce585a4",
   "metadata": {},
   "outputs": [
    {
     "data": {
      "text/html": [
       "<div>\n",
       "<style scoped>\n",
       "    .dataframe tbody tr th:only-of-type {\n",
       "        vertical-align: middle;\n",
       "    }\n",
       "\n",
       "    .dataframe tbody tr th {\n",
       "        vertical-align: top;\n",
       "    }\n",
       "\n",
       "    .dataframe thead th {\n",
       "        text-align: right;\n",
       "    }\n",
       "</style>\n",
       "<table border=\"1\" class=\"dataframe\">\n",
       "  <thead>\n",
       "    <tr style=\"text-align: right;\">\n",
       "      <th></th>\n",
       "      <th>id</th>\n",
       "      <th>customer_age</th>\n",
       "      <th>job_type</th>\n",
       "      <th>marital</th>\n",
       "      <th>education</th>\n",
       "      <th>default</th>\n",
       "      <th>balance</th>\n",
       "      <th>housing_loan</th>\n",
       "      <th>personal_loan</th>\n",
       "      <th>communication_type</th>\n",
       "      <th>day_of_month</th>\n",
       "      <th>month</th>\n",
       "      <th>last_contact_duration</th>\n",
       "      <th>num_contacts_in_campaign</th>\n",
       "      <th>days_since_prev_campaign_contact</th>\n",
       "      <th>num_contacts_prev_campaign</th>\n",
       "      <th>prev_campaign_outcome</th>\n",
       "      <th>term_deposit_subscribed</th>\n",
       "    </tr>\n",
       "  </thead>\n",
       "  <tbody>\n",
       "    <tr>\n",
       "      <th>0</th>\n",
       "      <td>id_43823</td>\n",
       "      <td>28.0</td>\n",
       "      <td>management</td>\n",
       "      <td>0.0</td>\n",
       "      <td>2</td>\n",
       "      <td>0</td>\n",
       "      <td>285.0</td>\n",
       "      <td>1</td>\n",
       "      <td>0.0</td>\n",
       "      <td>0</td>\n",
       "      <td>26</td>\n",
       "      <td>jun</td>\n",
       "      <td>303.0</td>\n",
       "      <td>4.0</td>\n",
       "      <td>NaN</td>\n",
       "      <td>0</td>\n",
       "      <td>0.0</td>\n",
       "      <td>0</td>\n",
       "    </tr>\n",
       "    <tr>\n",
       "      <th>1</th>\n",
       "      <td>id_32289</td>\n",
       "      <td>34.0</td>\n",
       "      <td>blue-collar</td>\n",
       "      <td>1.0</td>\n",
       "      <td>1</td>\n",
       "      <td>0</td>\n",
       "      <td>934.0</td>\n",
       "      <td>0</td>\n",
       "      <td>1.0</td>\n",
       "      <td>1</td>\n",
       "      <td>18</td>\n",
       "      <td>nov</td>\n",
       "      <td>143.0</td>\n",
       "      <td>2.0</td>\n",
       "      <td>132.0</td>\n",
       "      <td>1</td>\n",
       "      <td>1.0</td>\n",
       "      <td>0</td>\n",
       "    </tr>\n",
       "    <tr>\n",
       "      <th>2</th>\n",
       "      <td>id_10523</td>\n",
       "      <td>46.0</td>\n",
       "      <td>technician</td>\n",
       "      <td>1.0</td>\n",
       "      <td>1</td>\n",
       "      <td>0</td>\n",
       "      <td>656.0</td>\n",
       "      <td>0</td>\n",
       "      <td>0.0</td>\n",
       "      <td>1</td>\n",
       "      <td>5</td>\n",
       "      <td>feb</td>\n",
       "      <td>101.0</td>\n",
       "      <td>4.0</td>\n",
       "      <td>NaN</td>\n",
       "      <td>0</td>\n",
       "      <td>0.0</td>\n",
       "      <td>0</td>\n",
       "    </tr>\n",
       "    <tr>\n",
       "      <th>3</th>\n",
       "      <td>id_43951</td>\n",
       "      <td>34.0</td>\n",
       "      <td>services</td>\n",
       "      <td>0.0</td>\n",
       "      <td>1</td>\n",
       "      <td>0</td>\n",
       "      <td>2.0</td>\n",
       "      <td>1</td>\n",
       "      <td>0.0</td>\n",
       "      <td>0</td>\n",
       "      <td>20</td>\n",
       "      <td>may</td>\n",
       "      <td>127.0</td>\n",
       "      <td>3.0</td>\n",
       "      <td>NaN</td>\n",
       "      <td>0</td>\n",
       "      <td>0.0</td>\n",
       "      <td>0</td>\n",
       "    </tr>\n",
       "    <tr>\n",
       "      <th>4</th>\n",
       "      <td>id_40992</td>\n",
       "      <td>41.0</td>\n",
       "      <td>blue-collar</td>\n",
       "      <td>1.0</td>\n",
       "      <td>0</td>\n",
       "      <td>0</td>\n",
       "      <td>1352.0</td>\n",
       "      <td>1</td>\n",
       "      <td>0.0</td>\n",
       "      <td>1</td>\n",
       "      <td>13</td>\n",
       "      <td>may</td>\n",
       "      <td>49.0</td>\n",
       "      <td>2.0</td>\n",
       "      <td>NaN</td>\n",
       "      <td>0</td>\n",
       "      <td>0.0</td>\n",
       "      <td>0</td>\n",
       "    </tr>\n",
       "    <tr>\n",
       "      <th>5</th>\n",
       "      <td>id_12681</td>\n",
       "      <td>65.0</td>\n",
       "      <td>retired</td>\n",
       "      <td>1.0</td>\n",
       "      <td>0</td>\n",
       "      <td>0</td>\n",
       "      <td>2880.0</td>\n",
       "      <td>0</td>\n",
       "      <td>0.0</td>\n",
       "      <td>1</td>\n",
       "      <td>23</td>\n",
       "      <td>apr</td>\n",
       "      <td>163.0</td>\n",
       "      <td>1.0</td>\n",
       "      <td>NaN</td>\n",
       "      <td>0</td>\n",
       "      <td>0.0</td>\n",
       "      <td>1</td>\n",
       "    </tr>\n",
       "    <tr>\n",
       "      <th>6</th>\n",
       "      <td>id_41178</td>\n",
       "      <td>57.0</td>\n",
       "      <td>blue-collar</td>\n",
       "      <td>1.0</td>\n",
       "      <td>0</td>\n",
       "      <td>0</td>\n",
       "      <td>495.0</td>\n",
       "      <td>0</td>\n",
       "      <td>0.0</td>\n",
       "      <td>1</td>\n",
       "      <td>18</td>\n",
       "      <td>aug</td>\n",
       "      <td>687.0</td>\n",
       "      <td>4.0</td>\n",
       "      <td>NaN</td>\n",
       "      <td>0</td>\n",
       "      <td>0.0</td>\n",
       "      <td>1</td>\n",
       "    </tr>\n",
       "    <tr>\n",
       "      <th>7</th>\n",
       "      <td>id_35102</td>\n",
       "      <td>37.0</td>\n",
       "      <td>management</td>\n",
       "      <td>1.0</td>\n",
       "      <td>2</td>\n",
       "      <td>0</td>\n",
       "      <td>650.0</td>\n",
       "      <td>1</td>\n",
       "      <td>NaN</td>\n",
       "      <td>0</td>\n",
       "      <td>26</td>\n",
       "      <td>may</td>\n",
       "      <td>210.0</td>\n",
       "      <td>1.0</td>\n",
       "      <td>NaN</td>\n",
       "      <td>0</td>\n",
       "      <td>0.0</td>\n",
       "      <td>0</td>\n",
       "    </tr>\n",
       "    <tr>\n",
       "      <th>8</th>\n",
       "      <td>id_34750</td>\n",
       "      <td>29.0</td>\n",
       "      <td>technician</td>\n",
       "      <td>1.0</td>\n",
       "      <td>1</td>\n",
       "      <td>0</td>\n",
       "      <td>265.0</td>\n",
       "      <td>1</td>\n",
       "      <td>0.0</td>\n",
       "      <td>1</td>\n",
       "      <td>19</td>\n",
       "      <td>aug</td>\n",
       "      <td>160.0</td>\n",
       "      <td>2.0</td>\n",
       "      <td>NaN</td>\n",
       "      <td>0</td>\n",
       "      <td>0.0</td>\n",
       "      <td>0</td>\n",
       "    </tr>\n",
       "    <tr>\n",
       "      <th>9</th>\n",
       "      <td>id_1406</td>\n",
       "      <td>50.0</td>\n",
       "      <td>blue-collar</td>\n",
       "      <td>1.0</td>\n",
       "      <td>1</td>\n",
       "      <td>0</td>\n",
       "      <td>407.0</td>\n",
       "      <td>1</td>\n",
       "      <td>1.0</td>\n",
       "      <td>1</td>\n",
       "      <td>7</td>\n",
       "      <td>aug</td>\n",
       "      <td>233.0</td>\n",
       "      <td>2.0</td>\n",
       "      <td>NaN</td>\n",
       "      <td>0</td>\n",
       "      <td>0.0</td>\n",
       "      <td>0</td>\n",
       "    </tr>\n",
       "    <tr>\n",
       "      <th>10</th>\n",
       "      <td>id_2153</td>\n",
       "      <td>52.0</td>\n",
       "      <td>blue-collar</td>\n",
       "      <td>1.0</td>\n",
       "      <td>2</td>\n",
       "      <td>0</td>\n",
       "      <td>1779.0</td>\n",
       "      <td>0</td>\n",
       "      <td>0.0</td>\n",
       "      <td>1</td>\n",
       "      <td>19</td>\n",
       "      <td>nov</td>\n",
       "      <td>1195.0</td>\n",
       "      <td>3.0</td>\n",
       "      <td>160.0</td>\n",
       "      <td>1</td>\n",
       "      <td>2.0</td>\n",
       "      <td>0</td>\n",
       "    </tr>\n",
       "    <tr>\n",
       "      <th>11</th>\n",
       "      <td>id_17866</td>\n",
       "      <td>35.0</td>\n",
       "      <td>technician</td>\n",
       "      <td>0.0</td>\n",
       "      <td>1</td>\n",
       "      <td>0</td>\n",
       "      <td>5212.0</td>\n",
       "      <td>1</td>\n",
       "      <td>0.0</td>\n",
       "      <td>1</td>\n",
       "      <td>7</td>\n",
       "      <td>may</td>\n",
       "      <td>303.0</td>\n",
       "      <td>2.0</td>\n",
       "      <td>NaN</td>\n",
       "      <td>0</td>\n",
       "      <td>0.0</td>\n",
       "      <td>0</td>\n",
       "    </tr>\n",
       "    <tr>\n",
       "      <th>12</th>\n",
       "      <td>id_36237</td>\n",
       "      <td>18.0</td>\n",
       "      <td>blue-collar</td>\n",
       "      <td>0.0</td>\n",
       "      <td>1</td>\n",
       "      <td>0</td>\n",
       "      <td>420.0</td>\n",
       "      <td>1</td>\n",
       "      <td>0.0</td>\n",
       "      <td>1</td>\n",
       "      <td>16</td>\n",
       "      <td>apr</td>\n",
       "      <td>478.0</td>\n",
       "      <td>1.0</td>\n",
       "      <td>NaN</td>\n",
       "      <td>0</td>\n",
       "      <td>0.0</td>\n",
       "      <td>1</td>\n",
       "    </tr>\n",
       "    <tr>\n",
       "      <th>13</th>\n",
       "      <td>id_43255</td>\n",
       "      <td>50.0</td>\n",
       "      <td>management</td>\n",
       "      <td>1.0</td>\n",
       "      <td>1</td>\n",
       "      <td>0</td>\n",
       "      <td>4873.0</td>\n",
       "      <td>0</td>\n",
       "      <td>0.0</td>\n",
       "      <td>2</td>\n",
       "      <td>6</td>\n",
       "      <td>feb</td>\n",
       "      <td>381.0</td>\n",
       "      <td>6.0</td>\n",
       "      <td>213.0</td>\n",
       "      <td>9</td>\n",
       "      <td>2.0</td>\n",
       "      <td>0</td>\n",
       "    </tr>\n",
       "    <tr>\n",
       "      <th>14</th>\n",
       "      <td>id_5735</td>\n",
       "      <td>55.0</td>\n",
       "      <td>blue-collar</td>\n",
       "      <td>1.0</td>\n",
       "      <td>0</td>\n",
       "      <td>0</td>\n",
       "      <td>762.0</td>\n",
       "      <td>0</td>\n",
       "      <td>0.0</td>\n",
       "      <td>0</td>\n",
       "      <td>18</td>\n",
       "      <td>jun</td>\n",
       "      <td>66.0</td>\n",
       "      <td>1.0</td>\n",
       "      <td>NaN</td>\n",
       "      <td>0</td>\n",
       "      <td>0.0</td>\n",
       "      <td>0</td>\n",
       "    </tr>\n",
       "    <tr>\n",
       "      <th>15</th>\n",
       "      <td>id_12246</td>\n",
       "      <td>42.0</td>\n",
       "      <td>management</td>\n",
       "      <td>1.0</td>\n",
       "      <td>2</td>\n",
       "      <td>0</td>\n",
       "      <td>55.0</td>\n",
       "      <td>1</td>\n",
       "      <td>0.0</td>\n",
       "      <td>1</td>\n",
       "      <td>17</td>\n",
       "      <td>nov</td>\n",
       "      <td>57.0</td>\n",
       "      <td>1.0</td>\n",
       "      <td>126.0</td>\n",
       "      <td>3</td>\n",
       "      <td>2.0</td>\n",
       "      <td>0</td>\n",
       "    </tr>\n",
       "    <tr>\n",
       "      <th>16</th>\n",
       "      <td>id_19188</td>\n",
       "      <td>37.0</td>\n",
       "      <td>blue-collar</td>\n",
       "      <td>0.0</td>\n",
       "      <td>0</td>\n",
       "      <td>0</td>\n",
       "      <td>3.0</td>\n",
       "      <td>0</td>\n",
       "      <td>0.0</td>\n",
       "      <td>0</td>\n",
       "      <td>5</td>\n",
       "      <td>jun</td>\n",
       "      <td>21.0</td>\n",
       "      <td>1.0</td>\n",
       "      <td>NaN</td>\n",
       "      <td>0</td>\n",
       "      <td>0.0</td>\n",
       "      <td>0</td>\n",
       "    </tr>\n",
       "    <tr>\n",
       "      <th>17</th>\n",
       "      <td>id_31616</td>\n",
       "      <td>41.0</td>\n",
       "      <td>technician</td>\n",
       "      <td>1.0</td>\n",
       "      <td>1</td>\n",
       "      <td>0</td>\n",
       "      <td>-3.0</td>\n",
       "      <td>1</td>\n",
       "      <td>0.0</td>\n",
       "      <td>1</td>\n",
       "      <td>16</td>\n",
       "      <td>apr</td>\n",
       "      <td>138.0</td>\n",
       "      <td>1.0</td>\n",
       "      <td>300.0</td>\n",
       "      <td>1</td>\n",
       "      <td>2.0</td>\n",
       "      <td>0</td>\n",
       "    </tr>\n",
       "    <tr>\n",
       "      <th>18</th>\n",
       "      <td>id_17398</td>\n",
       "      <td>41.0</td>\n",
       "      <td>services</td>\n",
       "      <td>1.0</td>\n",
       "      <td>1</td>\n",
       "      <td>0</td>\n",
       "      <td>-145.0</td>\n",
       "      <td>0</td>\n",
       "      <td>1.0</td>\n",
       "      <td>0</td>\n",
       "      <td>6</td>\n",
       "      <td>jun</td>\n",
       "      <td>201.0</td>\n",
       "      <td>1.0</td>\n",
       "      <td>NaN</td>\n",
       "      <td>0</td>\n",
       "      <td>0.0</td>\n",
       "      <td>0</td>\n",
       "    </tr>\n",
       "    <tr>\n",
       "      <th>19</th>\n",
       "      <td>id_32668</td>\n",
       "      <td>53.0</td>\n",
       "      <td>retired</td>\n",
       "      <td>2.0</td>\n",
       "      <td>1</td>\n",
       "      <td>1</td>\n",
       "      <td>-204.0</td>\n",
       "      <td>0</td>\n",
       "      <td>1.0</td>\n",
       "      <td>0</td>\n",
       "      <td>6</td>\n",
       "      <td>jun</td>\n",
       "      <td>176.0</td>\n",
       "      <td>1.0</td>\n",
       "      <td>NaN</td>\n",
       "      <td>0</td>\n",
       "      <td>0.0</td>\n",
       "      <td>0</td>\n",
       "    </tr>\n",
       "    <tr>\n",
       "      <th>20</th>\n",
       "      <td>id_11871</td>\n",
       "      <td>58.0</td>\n",
       "      <td>blue-collar</td>\n",
       "      <td>1.0</td>\n",
       "      <td>1</td>\n",
       "      <td>0</td>\n",
       "      <td>1.0</td>\n",
       "      <td>0</td>\n",
       "      <td>1.0</td>\n",
       "      <td>1</td>\n",
       "      <td>22</td>\n",
       "      <td>jul</td>\n",
       "      <td>138.0</td>\n",
       "      <td>2.0</td>\n",
       "      <td>NaN</td>\n",
       "      <td>0</td>\n",
       "      <td>0.0</td>\n",
       "      <td>0</td>\n",
       "    </tr>\n",
       "    <tr>\n",
       "      <th>21</th>\n",
       "      <td>id_16593</td>\n",
       "      <td>70.0</td>\n",
       "      <td>retired</td>\n",
       "      <td>2.0</td>\n",
       "      <td>0</td>\n",
       "      <td>0</td>\n",
       "      <td>479.0</td>\n",
       "      <td>0</td>\n",
       "      <td>0.0</td>\n",
       "      <td>1</td>\n",
       "      <td>2</td>\n",
       "      <td>jul</td>\n",
       "      <td>241.0</td>\n",
       "      <td>2.0</td>\n",
       "      <td>NaN</td>\n",
       "      <td>0</td>\n",
       "      <td>0.0</td>\n",
       "      <td>1</td>\n",
       "    </tr>\n",
       "    <tr>\n",
       "      <th>22</th>\n",
       "      <td>id_8740</td>\n",
       "      <td>34.0</td>\n",
       "      <td>blue-collar</td>\n",
       "      <td>1.0</td>\n",
       "      <td>0</td>\n",
       "      <td>0</td>\n",
       "      <td>3.0</td>\n",
       "      <td>1</td>\n",
       "      <td>0.0</td>\n",
       "      <td>0</td>\n",
       "      <td>21</td>\n",
       "      <td>may</td>\n",
       "      <td>49.0</td>\n",
       "      <td>2.0</td>\n",
       "      <td>NaN</td>\n",
       "      <td>0</td>\n",
       "      <td>0.0</td>\n",
       "      <td>0</td>\n",
       "    </tr>\n",
       "    <tr>\n",
       "      <th>23</th>\n",
       "      <td>id_15826</td>\n",
       "      <td>31.0</td>\n",
       "      <td>management</td>\n",
       "      <td>0.0</td>\n",
       "      <td>2</td>\n",
       "      <td>0</td>\n",
       "      <td>3.0</td>\n",
       "      <td>1</td>\n",
       "      <td>0.0</td>\n",
       "      <td>0</td>\n",
       "      <td>9</td>\n",
       "      <td>may</td>\n",
       "      <td>80.0</td>\n",
       "      <td>3.0</td>\n",
       "      <td>NaN</td>\n",
       "      <td>0</td>\n",
       "      <td>0.0</td>\n",
       "      <td>0</td>\n",
       "    </tr>\n",
       "    <tr>\n",
       "      <th>24</th>\n",
       "      <td>id_32623</td>\n",
       "      <td>41.0</td>\n",
       "      <td>entrepreneur</td>\n",
       "      <td>1.0</td>\n",
       "      <td>0</td>\n",
       "      <td>0</td>\n",
       "      <td>150.0</td>\n",
       "      <td>0</td>\n",
       "      <td>0.0</td>\n",
       "      <td>1</td>\n",
       "      <td>20</td>\n",
       "      <td>aug</td>\n",
       "      <td>75.0</td>\n",
       "      <td>2.0</td>\n",
       "      <td>NaN</td>\n",
       "      <td>0</td>\n",
       "      <td>0.0</td>\n",
       "      <td>0</td>\n",
       "    </tr>\n",
       "    <tr>\n",
       "      <th>25</th>\n",
       "      <td>id_9411</td>\n",
       "      <td>34.0</td>\n",
       "      <td>services</td>\n",
       "      <td>0.0</td>\n",
       "      <td>1</td>\n",
       "      <td>0</td>\n",
       "      <td>1038.0</td>\n",
       "      <td>0</td>\n",
       "      <td>1.0</td>\n",
       "      <td>0</td>\n",
       "      <td>3</td>\n",
       "      <td>jul</td>\n",
       "      <td>89.0</td>\n",
       "      <td>1.0</td>\n",
       "      <td>NaN</td>\n",
       "      <td>0</td>\n",
       "      <td>0.0</td>\n",
       "      <td>0</td>\n",
       "    </tr>\n",
       "    <tr>\n",
       "      <th>26</th>\n",
       "      <td>id_37166</td>\n",
       "      <td>28.0</td>\n",
       "      <td>services</td>\n",
       "      <td>0.0</td>\n",
       "      <td>0</td>\n",
       "      <td>0</td>\n",
       "      <td>340.0</td>\n",
       "      <td>0</td>\n",
       "      <td>0.0</td>\n",
       "      <td>0</td>\n",
       "      <td>4</td>\n",
       "      <td>jul</td>\n",
       "      <td>NaN</td>\n",
       "      <td>3.0</td>\n",
       "      <td>NaN</td>\n",
       "      <td>0</td>\n",
       "      <td>0.0</td>\n",
       "      <td>1</td>\n",
       "    </tr>\n",
       "    <tr>\n",
       "      <th>27</th>\n",
       "      <td>id_34844</td>\n",
       "      <td>38.0</td>\n",
       "      <td>technician</td>\n",
       "      <td>2.0</td>\n",
       "      <td>1</td>\n",
       "      <td>0</td>\n",
       "      <td>528.0</td>\n",
       "      <td>0</td>\n",
       "      <td>0.0</td>\n",
       "      <td>1</td>\n",
       "      <td>29</td>\n",
       "      <td>jan</td>\n",
       "      <td>212.0</td>\n",
       "      <td>3.0</td>\n",
       "      <td>226.0</td>\n",
       "      <td>7</td>\n",
       "      <td>2.0</td>\n",
       "      <td>0</td>\n",
       "    </tr>\n",
       "    <tr>\n",
       "      <th>28</th>\n",
       "      <td>id_6701</td>\n",
       "      <td>45.0</td>\n",
       "      <td>admin.</td>\n",
       "      <td>0.0</td>\n",
       "      <td>1</td>\n",
       "      <td>0</td>\n",
       "      <td>10390.0</td>\n",
       "      <td>1</td>\n",
       "      <td>0.0</td>\n",
       "      <td>1</td>\n",
       "      <td>20</td>\n",
       "      <td>nov</td>\n",
       "      <td>101.0</td>\n",
       "      <td>1.0</td>\n",
       "      <td>NaN</td>\n",
       "      <td>0</td>\n",
       "      <td>0.0</td>\n",
       "      <td>0</td>\n",
       "    </tr>\n",
       "    <tr>\n",
       "      <th>29</th>\n",
       "      <td>id_2770</td>\n",
       "      <td>33.0</td>\n",
       "      <td>admin.</td>\n",
       "      <td>0.0</td>\n",
       "      <td>1</td>\n",
       "      <td>0</td>\n",
       "      <td>54.0</td>\n",
       "      <td>0</td>\n",
       "      <td>0.0</td>\n",
       "      <td>1</td>\n",
       "      <td>29</td>\n",
       "      <td>jan</td>\n",
       "      <td>399.0</td>\n",
       "      <td>1.0</td>\n",
       "      <td>NaN</td>\n",
       "      <td>0</td>\n",
       "      <td>0.0</td>\n",
       "      <td>0</td>\n",
       "    </tr>\n",
       "  </tbody>\n",
       "</table>\n",
       "</div>"
      ],
      "text/plain": [
       "          id  customer_age      job_type  marital  education  default  \\\n",
       "0   id_43823          28.0    management      0.0          2        0   \n",
       "1   id_32289          34.0   blue-collar      1.0          1        0   \n",
       "2   id_10523          46.0    technician      1.0          1        0   \n",
       "3   id_43951          34.0      services      0.0          1        0   \n",
       "4   id_40992          41.0   blue-collar      1.0          0        0   \n",
       "5   id_12681          65.0       retired      1.0          0        0   \n",
       "6   id_41178          57.0   blue-collar      1.0          0        0   \n",
       "7   id_35102          37.0    management      1.0          2        0   \n",
       "8   id_34750          29.0    technician      1.0          1        0   \n",
       "9    id_1406          50.0   blue-collar      1.0          1        0   \n",
       "10   id_2153          52.0   blue-collar      1.0          2        0   \n",
       "11  id_17866          35.0    technician      0.0          1        0   \n",
       "12  id_36237          18.0   blue-collar      0.0          1        0   \n",
       "13  id_43255          50.0    management      1.0          1        0   \n",
       "14   id_5735          55.0   blue-collar      1.0          0        0   \n",
       "15  id_12246          42.0    management      1.0          2        0   \n",
       "16  id_19188          37.0   blue-collar      0.0          0        0   \n",
       "17  id_31616          41.0    technician      1.0          1        0   \n",
       "18  id_17398          41.0      services      1.0          1        0   \n",
       "19  id_32668          53.0       retired      2.0          1        1   \n",
       "20  id_11871          58.0   blue-collar      1.0          1        0   \n",
       "21  id_16593          70.0       retired      2.0          0        0   \n",
       "22   id_8740          34.0   blue-collar      1.0          0        0   \n",
       "23  id_15826          31.0    management      0.0          2        0   \n",
       "24  id_32623          41.0  entrepreneur      1.0          0        0   \n",
       "25   id_9411          34.0      services      0.0          1        0   \n",
       "26  id_37166          28.0      services      0.0          0        0   \n",
       "27  id_34844          38.0    technician      2.0          1        0   \n",
       "28   id_6701          45.0        admin.      0.0          1        0   \n",
       "29   id_2770          33.0        admin.      0.0          1        0   \n",
       "\n",
       "    balance  housing_loan  personal_loan  communication_type  day_of_month  \\\n",
       "0     285.0             1            0.0                   0            26   \n",
       "1     934.0             0            1.0                   1            18   \n",
       "2     656.0             0            0.0                   1             5   \n",
       "3       2.0             1            0.0                   0            20   \n",
       "4    1352.0             1            0.0                   1            13   \n",
       "5    2880.0             0            0.0                   1            23   \n",
       "6     495.0             0            0.0                   1            18   \n",
       "7     650.0             1            NaN                   0            26   \n",
       "8     265.0             1            0.0                   1            19   \n",
       "9     407.0             1            1.0                   1             7   \n",
       "10   1779.0             0            0.0                   1            19   \n",
       "11   5212.0             1            0.0                   1             7   \n",
       "12    420.0             1            0.0                   1            16   \n",
       "13   4873.0             0            0.0                   2             6   \n",
       "14    762.0             0            0.0                   0            18   \n",
       "15     55.0             1            0.0                   1            17   \n",
       "16      3.0             0            0.0                   0             5   \n",
       "17     -3.0             1            0.0                   1            16   \n",
       "18   -145.0             0            1.0                   0             6   \n",
       "19   -204.0             0            1.0                   0             6   \n",
       "20      1.0             0            1.0                   1            22   \n",
       "21    479.0             0            0.0                   1             2   \n",
       "22      3.0             1            0.0                   0            21   \n",
       "23      3.0             1            0.0                   0             9   \n",
       "24    150.0             0            0.0                   1            20   \n",
       "25   1038.0             0            1.0                   0             3   \n",
       "26    340.0             0            0.0                   0             4   \n",
       "27    528.0             0            0.0                   1            29   \n",
       "28  10390.0             1            0.0                   1            20   \n",
       "29     54.0             0            0.0                   1            29   \n",
       "\n",
       "   month  last_contact_duration  num_contacts_in_campaign  \\\n",
       "0    jun                  303.0                       4.0   \n",
       "1    nov                  143.0                       2.0   \n",
       "2    feb                  101.0                       4.0   \n",
       "3    may                  127.0                       3.0   \n",
       "4    may                   49.0                       2.0   \n",
       "5    apr                  163.0                       1.0   \n",
       "6    aug                  687.0                       4.0   \n",
       "7    may                  210.0                       1.0   \n",
       "8    aug                  160.0                       2.0   \n",
       "9    aug                  233.0                       2.0   \n",
       "10   nov                 1195.0                       3.0   \n",
       "11   may                  303.0                       2.0   \n",
       "12   apr                  478.0                       1.0   \n",
       "13   feb                  381.0                       6.0   \n",
       "14   jun                   66.0                       1.0   \n",
       "15   nov                   57.0                       1.0   \n",
       "16   jun                   21.0                       1.0   \n",
       "17   apr                  138.0                       1.0   \n",
       "18   jun                  201.0                       1.0   \n",
       "19   jun                  176.0                       1.0   \n",
       "20   jul                  138.0                       2.0   \n",
       "21   jul                  241.0                       2.0   \n",
       "22   may                   49.0                       2.0   \n",
       "23   may                   80.0                       3.0   \n",
       "24   aug                   75.0                       2.0   \n",
       "25   jul                   89.0                       1.0   \n",
       "26   jul                    NaN                       3.0   \n",
       "27   jan                  212.0                       3.0   \n",
       "28   nov                  101.0                       1.0   \n",
       "29   jan                  399.0                       1.0   \n",
       "\n",
       "    days_since_prev_campaign_contact  num_contacts_prev_campaign  \\\n",
       "0                                NaN                           0   \n",
       "1                              132.0                           1   \n",
       "2                                NaN                           0   \n",
       "3                                NaN                           0   \n",
       "4                                NaN                           0   \n",
       "5                                NaN                           0   \n",
       "6                                NaN                           0   \n",
       "7                                NaN                           0   \n",
       "8                                NaN                           0   \n",
       "9                                NaN                           0   \n",
       "10                             160.0                           1   \n",
       "11                               NaN                           0   \n",
       "12                               NaN                           0   \n",
       "13                             213.0                           9   \n",
       "14                               NaN                           0   \n",
       "15                             126.0                           3   \n",
       "16                               NaN                           0   \n",
       "17                             300.0                           1   \n",
       "18                               NaN                           0   \n",
       "19                               NaN                           0   \n",
       "20                               NaN                           0   \n",
       "21                               NaN                           0   \n",
       "22                               NaN                           0   \n",
       "23                               NaN                           0   \n",
       "24                               NaN                           0   \n",
       "25                               NaN                           0   \n",
       "26                               NaN                           0   \n",
       "27                             226.0                           7   \n",
       "28                               NaN                           0   \n",
       "29                               NaN                           0   \n",
       "\n",
       "    prev_campaign_outcome  term_deposit_subscribed  \n",
       "0                     0.0                        0  \n",
       "1                     1.0                        0  \n",
       "2                     0.0                        0  \n",
       "3                     0.0                        0  \n",
       "4                     0.0                        0  \n",
       "5                     0.0                        1  \n",
       "6                     0.0                        1  \n",
       "7                     0.0                        0  \n",
       "8                     0.0                        0  \n",
       "9                     0.0                        0  \n",
       "10                    2.0                        0  \n",
       "11                    0.0                        0  \n",
       "12                    0.0                        1  \n",
       "13                    2.0                        0  \n",
       "14                    0.0                        0  \n",
       "15                    2.0                        0  \n",
       "16                    0.0                        0  \n",
       "17                    2.0                        0  \n",
       "18                    0.0                        0  \n",
       "19                    0.0                        0  \n",
       "20                    0.0                        0  \n",
       "21                    0.0                        1  \n",
       "22                    0.0                        0  \n",
       "23                    0.0                        0  \n",
       "24                    0.0                        0  \n",
       "25                    0.0                        0  \n",
       "26                    0.0                        1  \n",
       "27                    2.0                        0  \n",
       "28                    0.0                        0  \n",
       "29                    0.0                        0  "
      ]
     },
     "execution_count": 11,
     "metadata": {},
     "output_type": "execute_result"
    }
   ],
   "source": [
    "data.head(30)"
   ]
  },
  {
   "cell_type": "code",
   "execution_count": 12,
   "id": "3766e4fa",
   "metadata": {},
   "outputs": [
    {
     "data": {
      "text/plain": [
       "id                                      0\n",
       "customer_age                          619\n",
       "job_type                                0\n",
       "marital                               150\n",
       "education                               0\n",
       "default                                 0\n",
       "balance                               399\n",
       "housing_loan                            0\n",
       "personal_loan                         149\n",
       "communication_type                      0\n",
       "day_of_month                            0\n",
       "month                                   0\n",
       "last_contact_duration                 311\n",
       "num_contacts_in_campaign              112\n",
       "days_since_prev_campaign_contact    25831\n",
       "num_contacts_prev_campaign              0\n",
       "prev_campaign_outcome                1070\n",
       "term_deposit_subscribed                 0\n",
       "dtype: int64"
      ]
     },
     "execution_count": 12,
     "metadata": {},
     "output_type": "execute_result"
    }
   ],
   "source": [
    "data.isnull().sum()"
   ]
  },
  {
   "cell_type": "code",
   "execution_count": 13,
   "id": "4fbc30c5",
   "metadata": {},
   "outputs": [],
   "source": [
    "data = data.drop(\"days_since_prev_campaign_contact\",axis =1)"
   ]
  },
  {
   "cell_type": "markdown",
   "id": "e44021ea",
   "metadata": {},
   "source": [
    "#### Am dat drop la coloana cu cele mai multe date lipsa,luand in consideratie si faptul ca are o corelatie de -0.17"
   ]
  },
  {
   "cell_type": "code",
   "execution_count": 14,
   "id": "87654af0",
   "metadata": {},
   "outputs": [],
   "source": [
    "y = data[\"term_deposit_subscribed\"]   \n",
    "X =  data.drop([\"id\",\"term_deposit_subscribed\"],axis=1)\n",
    "#X = X[~X.isnull()]"
   ]
  },
  {
   "cell_type": "markdown",
   "id": "96166a8b",
   "metadata": {},
   "source": [
    "#### Verificam numarul de date lipsa"
   ]
  },
  {
   "cell_type": "code",
   "execution_count": 15,
   "id": "1005af24",
   "metadata": {},
   "outputs": [
    {
     "data": {
      "text/plain": [
       "customer_age                   619\n",
       "job_type                         0\n",
       "marital                        150\n",
       "education                        0\n",
       "default                          0\n",
       "balance                        399\n",
       "housing_loan                     0\n",
       "personal_loan                  149\n",
       "communication_type               0\n",
       "day_of_month                     0\n",
       "month                            0\n",
       "last_contact_duration          311\n",
       "num_contacts_in_campaign       112\n",
       "num_contacts_prev_campaign       0\n",
       "prev_campaign_outcome         1070\n",
       "dtype: int64"
      ]
     },
     "execution_count": 15,
     "metadata": {},
     "output_type": "execute_result"
    }
   ],
   "source": [
    "X.isnull().sum()"
   ]
  },
  {
   "cell_type": "markdown",
   "id": "3e91f3e3",
   "metadata": {},
   "source": [
    "#### date lipsesc doar in coloanele de tip numeric"
   ]
  },
  {
   "cell_type": "code",
   "execution_count": 16,
   "id": "5058b0a8",
   "metadata": {},
   "outputs": [
    {
     "name": "stdout",
     "output_type": "stream",
     "text": [
      "<class 'pandas.core.frame.DataFrame'>\n",
      "RangeIndex: 31647 entries, 0 to 31646\n",
      "Data columns (total 15 columns):\n",
      " #   Column                      Non-Null Count  Dtype  \n",
      "---  ------                      --------------  -----  \n",
      " 0   customer_age                31028 non-null  float64\n",
      " 1   job_type                    31647 non-null  object \n",
      " 2   marital                     31497 non-null  float64\n",
      " 3   education                   31647 non-null  int64  \n",
      " 4   default                     31647 non-null  int64  \n",
      " 5   balance                     31248 non-null  float64\n",
      " 6   housing_loan                31647 non-null  int64  \n",
      " 7   personal_loan               31498 non-null  float64\n",
      " 8   communication_type          31647 non-null  int64  \n",
      " 9   day_of_month                31647 non-null  int64  \n",
      " 10  month                       31647 non-null  object \n",
      " 11  last_contact_duration       31336 non-null  float64\n",
      " 12  num_contacts_in_campaign    31535 non-null  float64\n",
      " 13  num_contacts_prev_campaign  31647 non-null  int64  \n",
      " 14  prev_campaign_outcome       30577 non-null  float64\n",
      "dtypes: float64(7), int64(6), object(2)\n",
      "memory usage: 3.6+ MB\n"
     ]
    }
   ],
   "source": [
    "X.info()"
   ]
  },
  {
   "cell_type": "markdown",
   "id": "9542cbb6",
   "metadata": {},
   "source": [
    "##### Observam ca coloanele de tip object nu au valori nule,deci v-om imparti datasetul in 2 subseturi,unul cu date numerice, altul cu date object, pentru a putea face imput la datele nule"
   ]
  },
  {
   "cell_type": "code",
   "execution_count": 17,
   "id": "a204163f",
   "metadata": {},
   "outputs": [],
   "source": [
    "data_object = X.select_dtypes(include=['object'])\n",
    "data_numeric = X.select_dtypes(exclude=['object'])"
   ]
  },
  {
   "cell_type": "code",
   "execution_count": 18,
   "id": "c3cd00f4",
   "metadata": {},
   "outputs": [],
   "source": [
    "from sklearn.impute import IterativeImputer\n",
    "it_imp = IterativeImputer(random_state=0)\n",
    "data_numeric = pd.DataFrame(it_imp.fit_transform(data_numeric),columns = data_numeric.columns)"
   ]
  },
  {
   "cell_type": "code",
   "execution_count": 19,
   "id": "c87deaf2",
   "metadata": {},
   "outputs": [
    {
     "data": {
      "text/plain": [
       "customer_age                  0\n",
       "marital                       0\n",
       "education                     0\n",
       "default                       0\n",
       "balance                       0\n",
       "housing_loan                  0\n",
       "personal_loan                 0\n",
       "communication_type            0\n",
       "day_of_month                  0\n",
       "last_contact_duration         0\n",
       "num_contacts_in_campaign      0\n",
       "num_contacts_prev_campaign    0\n",
       "prev_campaign_outcome         0\n",
       "dtype: int64"
      ]
     },
     "execution_count": 19,
     "metadata": {},
     "output_type": "execute_result"
    }
   ],
   "source": [
    "data_numeric.isnull().sum()"
   ]
  },
  {
   "cell_type": "markdown",
   "id": "d54bdde8",
   "metadata": {},
   "source": [
    "#### Toate valorile nule au fost eliminate\n",
    "#### Iar acum concatinam subseturile inapoi"
   ]
  },
  {
   "cell_type": "code",
   "execution_count": 20,
   "id": "868515d9",
   "metadata": {},
   "outputs": [],
   "source": [
    "X = pd.concat([data_numeric, data_object], axis=\"columns\") "
   ]
  },
  {
   "cell_type": "code",
   "execution_count": 21,
   "id": "a9a31eb5",
   "metadata": {},
   "outputs": [
    {
     "data": {
      "text/plain": [
       "Index(['customer_age', 'marital', 'education', 'default', 'balance',\n",
       "       'housing_loan', 'personal_loan', 'communication_type', 'day_of_month',\n",
       "       'last_contact_duration', 'num_contacts_in_campaign',\n",
       "       'num_contacts_prev_campaign', 'prev_campaign_outcome', 'job_type',\n",
       "       'month'],\n",
       "      dtype='object')"
      ]
     },
     "execution_count": 21,
     "metadata": {},
     "output_type": "execute_result"
    }
   ],
   "source": [
    "X.columns"
   ]
  },
  {
   "cell_type": "code",
   "execution_count": 22,
   "id": "d3e5f71b",
   "metadata": {},
   "outputs": [
    {
     "data": {
      "text/plain": [
       "customer_age                  float64\n",
       "marital                       float64\n",
       "education                     float64\n",
       "default                       float64\n",
       "balance                       float64\n",
       "housing_loan                  float64\n",
       "personal_loan                 float64\n",
       "communication_type            float64\n",
       "day_of_month                  float64\n",
       "last_contact_duration         float64\n",
       "num_contacts_in_campaign      float64\n",
       "num_contacts_prev_campaign    float64\n",
       "prev_campaign_outcome         float64\n",
       "job_type                       object\n",
       "month                          object\n",
       "dtype: object"
      ]
     },
     "execution_count": 22,
     "metadata": {},
     "output_type": "execute_result"
    }
   ],
   "source": [
    "X.dtypes"
   ]
  },
  {
   "cell_type": "code",
   "execution_count": 23,
   "id": "4f971dc3",
   "metadata": {},
   "outputs": [
    {
     "data": {
      "text/plain": [
       "blue-collar      6816\n",
       "management       6666\n",
       "technician       5220\n",
       "admin.           3627\n",
       "services         2923\n",
       "retired          1591\n",
       "self-employed    1111\n",
       "entrepreneur     1037\n",
       "unemployed        901\n",
       "housemaid         893\n",
       "student           663\n",
       "0                 199\n",
       "Name: job_type, dtype: int64"
      ]
     },
     "execution_count": 23,
     "metadata": {},
     "output_type": "execute_result"
    }
   ],
   "source": [
    "frequency=X['job_type'].value_counts()\n",
    "frequency"
   ]
  },
  {
   "cell_type": "code",
   "execution_count": 24,
   "id": "41d31c4d",
   "metadata": {},
   "outputs": [],
   "source": [
    "for col in ['job_type', 'month']:\n",
    "    X[col] = X[col].astype('str')"
   ]
  },
  {
   "cell_type": "code",
   "execution_count": 25,
   "id": "00b34920",
   "metadata": {},
   "outputs": [
    {
     "data": {
      "text/plain": [
       "customer_age                  float64\n",
       "marital                       float64\n",
       "education                     float64\n",
       "default                       float64\n",
       "balance                       float64\n",
       "housing_loan                  float64\n",
       "personal_loan                 float64\n",
       "communication_type            float64\n",
       "day_of_month                  float64\n",
       "last_contact_duration         float64\n",
       "num_contacts_in_campaign      float64\n",
       "num_contacts_prev_campaign    float64\n",
       "prev_campaign_outcome         float64\n",
       "job_type                       object\n",
       "month                          object\n",
       "dtype: object"
      ]
     },
     "execution_count": 25,
     "metadata": {},
     "output_type": "execute_result"
    }
   ],
   "source": [
    "X.dtypes"
   ]
  },
  {
   "cell_type": "markdown",
   "id": "2493988b",
   "metadata": {},
   "source": [
    "#### Facem label encoding pentru a inlocui datele de tip object"
   ]
  },
  {
   "cell_type": "code",
   "execution_count": 26,
   "id": "9586e59f",
   "metadata": {},
   "outputs": [],
   "source": [
    "from sklearn.preprocessing import LabelEncoder\n",
    "#X[\"job_type\"].unique()\n",
    "lbl_enc=LabelEncoder()\n",
    "X[\"job_type\"]=lbl_enc.fit_transform(X[\"job_type\"])\n",
    "X[\"month\"]=lbl_enc.fit_transform(X[\"month\"])"
   ]
  },
  {
   "cell_type": "code",
   "execution_count": 27,
   "id": "f97086bf",
   "metadata": {},
   "outputs": [
    {
     "data": {
      "text/plain": [
       "customer_age                  float64\n",
       "marital                       float64\n",
       "education                     float64\n",
       "default                       float64\n",
       "balance                       float64\n",
       "housing_loan                  float64\n",
       "personal_loan                 float64\n",
       "communication_type            float64\n",
       "day_of_month                  float64\n",
       "last_contact_duration         float64\n",
       "num_contacts_in_campaign      float64\n",
       "num_contacts_prev_campaign    float64\n",
       "prev_campaign_outcome         float64\n",
       "job_type                        int32\n",
       "month                           int32\n",
       "dtype: object"
      ]
     },
     "execution_count": 27,
     "metadata": {},
     "output_type": "execute_result"
    }
   ],
   "source": [
    "X.dtypes"
   ]
  },
  {
   "cell_type": "code",
   "execution_count": 28,
   "id": "f8937d84",
   "metadata": {},
   "outputs": [
    {
     "data": {
      "text/plain": [
       "<AxesSubplot:>"
      ]
     },
     "execution_count": 28,
     "metadata": {},
     "output_type": "execute_result"
    },
    {
     "data": {
      "image/png": "[encoded data removed]",
      "text/plain": [
       "<Figure size 2160x2160 with 2 Axes>"
      ]
     },
     "metadata": {
      "needs_background": "light"
     },
     "output_type": "display_data"
    }
   ],
   "source": [
    "plt.figure(figsize=(30,30))\n",
    "sns.heatmap(data.corr(),annot = True,cmap = 'coolwarm')"
   ]
  },
  {
   "cell_type": "markdown",
   "id": "fbf0a8f7",
   "metadata": {},
   "source": [
    "#### dupa label encoding,ultimele coloane au devenit int, iar in diagrama de corelatie sunt prezente toate coloanele\n"
   ]
  },
  {
   "cell_type": "code",
   "execution_count": 29,
   "id": "5e9a9e96",
   "metadata": {},
   "outputs": [],
   "source": [
    "X_train, X_test, y_train, y_test = train_test_split(X, y, test_size = 0.4,random_state=42)"
   ]
  },
  {
   "cell_type": "code",
   "execution_count": 30,
   "id": "9d92f40f",
   "metadata": {},
   "outputs": [
    {
     "data": {
      "text/html": [
       "<div>\n",
       "<style scoped>\n",
       "    .dataframe tbody tr th:only-of-type {\n",
       "        vertical-align: middle;\n",
       "    }\n",
       "\n",
       "    .dataframe tbody tr th {\n",
       "        vertical-align: top;\n",
       "    }\n",
       "\n",
       "    .dataframe thead th {\n",
       "        text-align: right;\n",
       "    }\n",
       "</style>\n",
       "<table border=\"1\" class=\"dataframe\">\n",
       "  <thead>\n",
       "    <tr style=\"text-align: right;\">\n",
       "      <th></th>\n",
       "      <th>customer_age</th>\n",
       "      <th>marital</th>\n",
       "      <th>education</th>\n",
       "      <th>default</th>\n",
       "      <th>balance</th>\n",
       "      <th>housing_loan</th>\n",
       "      <th>personal_loan</th>\n",
       "      <th>communication_type</th>\n",
       "      <th>day_of_month</th>\n",
       "      <th>last_contact_duration</th>\n",
       "      <th>num_contacts_in_campaign</th>\n",
       "      <th>num_contacts_prev_campaign</th>\n",
       "      <th>prev_campaign_outcome</th>\n",
       "      <th>job_type</th>\n",
       "      <th>month</th>\n",
       "    </tr>\n",
       "  </thead>\n",
       "  <tbody>\n",
       "    <tr>\n",
       "      <th>0</th>\n",
       "      <td>28.0</td>\n",
       "      <td>0.0</td>\n",
       "      <td>2.0</td>\n",
       "      <td>0.0</td>\n",
       "      <td>285.0</td>\n",
       "      <td>1.0</td>\n",
       "      <td>0.0</td>\n",
       "      <td>0.0</td>\n",
       "      <td>26.0</td>\n",
       "      <td>303.0</td>\n",
       "      <td>4.0</td>\n",
       "      <td>0.0</td>\n",
       "      <td>0.0</td>\n",
       "      <td>5</td>\n",
       "      <td>6</td>\n",
       "    </tr>\n",
       "    <tr>\n",
       "      <th>1</th>\n",
       "      <td>34.0</td>\n",
       "      <td>1.0</td>\n",
       "      <td>1.0</td>\n",
       "      <td>0.0</td>\n",
       "      <td>934.0</td>\n",
       "      <td>0.0</td>\n",
       "      <td>1.0</td>\n",
       "      <td>1.0</td>\n",
       "      <td>18.0</td>\n",
       "      <td>143.0</td>\n",
       "      <td>2.0</td>\n",
       "      <td>1.0</td>\n",
       "      <td>1.0</td>\n",
       "      <td>2</td>\n",
       "      <td>9</td>\n",
       "    </tr>\n",
       "    <tr>\n",
       "      <th>2</th>\n",
       "      <td>46.0</td>\n",
       "      <td>1.0</td>\n",
       "      <td>1.0</td>\n",
       "      <td>0.0</td>\n",
       "      <td>656.0</td>\n",
       "      <td>0.0</td>\n",
       "      <td>0.0</td>\n",
       "      <td>1.0</td>\n",
       "      <td>5.0</td>\n",
       "      <td>101.0</td>\n",
       "      <td>4.0</td>\n",
       "      <td>0.0</td>\n",
       "      <td>0.0</td>\n",
       "      <td>10</td>\n",
       "      <td>3</td>\n",
       "    </tr>\n",
       "    <tr>\n",
       "      <th>3</th>\n",
       "      <td>34.0</td>\n",
       "      <td>0.0</td>\n",
       "      <td>1.0</td>\n",
       "      <td>0.0</td>\n",
       "      <td>2.0</td>\n",
       "      <td>1.0</td>\n",
       "      <td>0.0</td>\n",
       "      <td>0.0</td>\n",
       "      <td>20.0</td>\n",
       "      <td>127.0</td>\n",
       "      <td>3.0</td>\n",
       "      <td>0.0</td>\n",
       "      <td>0.0</td>\n",
       "      <td>8</td>\n",
       "      <td>8</td>\n",
       "    </tr>\n",
       "    <tr>\n",
       "      <th>4</th>\n",
       "      <td>41.0</td>\n",
       "      <td>1.0</td>\n",
       "      <td>0.0</td>\n",
       "      <td>0.0</td>\n",
       "      <td>1352.0</td>\n",
       "      <td>1.0</td>\n",
       "      <td>0.0</td>\n",
       "      <td>1.0</td>\n",
       "      <td>13.0</td>\n",
       "      <td>49.0</td>\n",
       "      <td>2.0</td>\n",
       "      <td>0.0</td>\n",
       "      <td>0.0</td>\n",
       "      <td>2</td>\n",
       "      <td>8</td>\n",
       "    </tr>\n",
       "  </tbody>\n",
       "</table>\n",
       "</div>"
      ],
      "text/plain": [
       "   customer_age  marital  education  default  balance  housing_loan  \\\n",
       "0          28.0      0.0        2.0      0.0    285.0           1.0   \n",
       "1          34.0      1.0        1.0      0.0    934.0           0.0   \n",
       "2          46.0      1.0        1.0      0.0    656.0           0.0   \n",
       "3          34.0      0.0        1.0      0.0      2.0           1.0   \n",
       "4          41.0      1.0        0.0      0.0   1352.0           1.0   \n",
       "\n",
       "   personal_loan  communication_type  day_of_month  last_contact_duration  \\\n",
       "0            0.0                 0.0          26.0                  303.0   \n",
       "1            1.0                 1.0          18.0                  143.0   \n",
       "2            0.0                 1.0           5.0                  101.0   \n",
       "3            0.0                 0.0          20.0                  127.0   \n",
       "4            0.0                 1.0          13.0                   49.0   \n",
       "\n",
       "   num_contacts_in_campaign  num_contacts_prev_campaign  \\\n",
       "0                       4.0                         0.0   \n",
       "1                       2.0                         1.0   \n",
       "2                       4.0                         0.0   \n",
       "3                       3.0                         0.0   \n",
       "4                       2.0                         0.0   \n",
       "\n",
       "   prev_campaign_outcome  job_type  month  \n",
       "0                    0.0         5      6  \n",
       "1                    1.0         2      9  \n",
       "2                    0.0        10      3  \n",
       "3                    0.0         8      8  \n",
       "4                    0.0         2      8  "
      ]
     },
     "execution_count": 30,
     "metadata": {},
     "output_type": "execute_result"
    }
   ],
   "source": [
    "X.head()"
   ]
  },
  {
   "cell_type": "code",
   "execution_count": 31,
   "id": "7ac6a942",
   "metadata": {},
   "outputs": [
    {
     "name": "stdout",
     "output_type": "stream",
     "text": [
      "Logistic Regression : 89.90441583063433%\n"
     ]
    }
   ],
   "source": [
    "from sklearn.linear_model import LogisticRegression\n",
    "lr = LogisticRegression()\n",
    "\n",
    "model = lr.fit(X_train, y_train)\n",
    "lr_predict = lr.predict(X_test)\n",
    "lr_acc_score = accuracy_score(y_test, lr_predict)\n",
    "print(f\"Logistic Regression : {lr_acc_score*100}%\")"
   ]
  },
  {
   "cell_type": "markdown",
   "id": "99fbc804",
   "metadata": {},
   "source": [
    "### Acuratetea dupa encoding si inputare"
   ]
  },
  {
   "cell_type": "code",
   "execution_count": 32,
   "id": "715eea7f",
   "metadata": {},
   "outputs": [],
   "source": [
    "import matplotlib.pyplot as plt\n",
    "import seaborn as sns ; sns.set ()\n",
    "from sklearn.datasets import make_blobs\n",
    "from sklearn.cluster import KMeans\n",
    "from sklearn.metrics import silhouette_score\n",
    "from sklearn.mixture import GaussianMixture"
   ]
  },
  {
   "cell_type": "markdown",
   "id": "8190a14b",
   "metadata": {},
   "source": [
    "### cautam cel mai optimal numar de clustere pentru GMM"
   ]
  },
  {
   "cell_type": "code",
   "execution_count": 33,
   "id": "f117d624",
   "metadata": {},
   "outputs": [],
   "source": [
    "gmm_sil = []\n",
    "for i in range (2,10):\n",
    "    GMM = GaussianMixture (n_components =i)\n",
    "    GMM.fit(X)\n",
    "    cluster = GMM.predict(X)\n",
    "    # cluster_p = GMM.predict_proba(X)\n",
    "    # cluster_p\n",
    "    gmm_sil.append(silhouette_score(X,cluster))"
   ]
  },
  {
   "cell_type": "code",
   "execution_count": 34,
   "id": "cfe0ee36",
   "metadata": {},
   "outputs": [
    {
     "data": {
      "text/plain": [
       "[-0.11981102075508797,\n",
       " -0.2892755354444281,\n",
       " -0.2514558011211062,\n",
       " -0.3331073909013636,\n",
       " -0.3411737290062504,\n",
       " -0.3461926835550163,\n",
       " -0.33180746758927515,\n",
       " -0.18600024407033192]"
      ]
     },
     "execution_count": 34,
     "metadata": {},
     "output_type": "execute_result"
    }
   ],
   "source": [
    "gmm_sil"
   ]
  },
  {
   "cell_type": "code",
   "execution_count": 35,
   "id": "64d5e641",
   "metadata": {},
   "outputs": [
    {
     "data": {
      "image/png": "[encoded data removed]",
      "text/plain": [
       "<Figure size 432x288 with 1 Axes>"
      ]
     },
     "metadata": {},
     "output_type": "display_data"
    }
   ],
   "source": [
    "x_plot = np.arange(0,len(gmm_sil))\n",
    "y_plot = gmm_sil\n",
    " \n",
    "plt.title(\"GMM\")\n",
    "plt.xlabel(\"clusters\")\n",
    "plt.ylabel(\"silhouette_score\")\n",
    "plt.plot(x_plot, y_plot, color =\"red\")\n",
    "plt.show()"
   ]
  },
  {
   "cell_type": "markdown",
   "id": "7b88fe48",
   "metadata": {},
   "source": [
    "### 4 este cea mai optimala valoare\n",
    "### Deja cautam cel mai optimal numar de clustere pentru KMeans"
   ]
  },
  {
   "cell_type": "code",
   "execution_count": 36,
   "id": "e173d2c0",
   "metadata": {},
   "outputs": [],
   "source": [
    "kmean_sil = []\n",
    "for i in range (2,10):\n",
    "    kmeans= KMeans(n_clusters=i, random_state=42)\n",
    "    kmeans.fit(X)\n",
    "    cluster = kmeans.predict(X)\n",
    "    # cluster_p = GMM.predict_proba(X)\n",
    "    # cluster_p\n",
    "    kmean_sil.append(silhouette_score(X,cluster))"
   ]
  },
  {
   "cell_type": "code",
   "execution_count": 37,
   "id": "04709ac1",
   "metadata": {},
   "outputs": [
    {
     "data": {
      "text/plain": [
       "[0.8493004647740933,\n",
       " 0.7786478675420557,\n",
       " 0.7380763392677486,\n",
       " 0.6906618047596443,\n",
       " 0.6359034063020582,\n",
       " 0.6050868480946856,\n",
       " 0.5801512218133588,\n",
       " 0.5257878358819216]"
      ]
     },
     "execution_count": 37,
     "metadata": {},
     "output_type": "execute_result"
    }
   ],
   "source": [
    "kmean_sil"
   ]
  },
  {
   "cell_type": "code",
   "execution_count": 38,
   "id": "c6da214a",
   "metadata": {},
   "outputs": [
    {
     "data": {
      "image/png": "[encoded data removed]",
      "text/plain": [
       "<Figure size 432x288 with 1 Axes>"
      ]
     },
     "metadata": {},
     "output_type": "display_data"
    }
   ],
   "source": [
    "x_plot = np.arange(0,len(gmm_sil))\n",
    "y_plot = kmean_sil\n",
    " \n",
    "plt.title(\"KMEANS\")\n",
    "plt.xlabel(\"clusters\")\n",
    "plt.ylabel(\"silhouette_score\")\n",
    "plt.plot(x_plot, y_plot, color =\"blue\")\n",
    "plt.show()"
   ]
  },
  {
   "cell_type": "markdown",
   "id": "4c734fbc",
   "metadata": {},
   "source": [
    "#### In baza graficului nu putem intelege care este numarul optim de clustere\n",
    "### vom folosi metoda Elbow pentru a gasi numarul optimal de clustere"
   ]
  },
  {
   "cell_type": "code",
   "execution_count": 39,
   "id": "c5e02fe6",
   "metadata": {},
   "outputs": [
    {
     "data": {
      "image/png": "[encoded data removed]",
      "text/plain": [
       "<Figure size 1152x576 with 1 Axes>"
      ]
     },
     "metadata": {},
     "output_type": "display_data"
    }
   ],
   "source": [
    "distortions = []\n",
    "K = range(1,10)\n",
    "for k in K:\n",
    "    kmeanModel = KMeans(n_clusters=k)\n",
    "    kmeanModel.fit(X_train)\n",
    "    distortions.append(kmeanModel.inertia_)   \n",
    "plt.figure(figsize=(16,8))\n",
    "plt.plot(K, distortions, 'bx-')\n",
    "plt.xlabel('k')\n",
    "plt.ylabel('Distortion')\n",
    "plt.title('The Elbow Method showing the optimal k')\n",
    "plt.show()\n",
    "    "
   ]
  },
  {
   "cell_type": "markdown",
   "id": "fe5edcb7",
   "metadata": {},
   "source": [
    "#### numarul de 4 clustere este cel mai optimal \n",
    "### facem gruparea datelor utilizand ambele metode"
   ]
  },
  {
   "cell_type": "code",
   "execution_count": 40,
   "id": "fb6e4827",
   "metadata": {},
   "outputs": [],
   "source": [
    "kmeans = KMeans(\n",
    "        init=\"random\",\n",
    "        n_clusters=4,\n",
    "        n_init=10,\n",
    "        max_iter=300,\n",
    "        random_state=42 )"
   ]
  },
  {
   "cell_type": "code",
   "execution_count": 41,
   "id": "a982065c",
   "metadata": {},
   "outputs": [
    {
     "data": {
      "text/plain": [
       "KMeans(init='random', n_clusters=4, random_state=42)"
      ]
     },
     "execution_count": 41,
     "metadata": {},
     "output_type": "execute_result"
    }
   ],
   "source": [
    "kmeans.fit(X)"
   ]
  },
  {
   "cell_type": "code",
   "execution_count": 42,
   "id": "bca3f412",
   "metadata": {},
   "outputs": [
    {
     "data": {
      "text/plain": [
       "array([0, 0, 0, ..., 0, 2, 0])"
      ]
     },
     "execution_count": 42,
     "metadata": {},
     "output_type": "execute_result"
    }
   ],
   "source": [
    "label = kmeans.fit_predict(X)\n",
    "label"
   ]
  },
  {
   "cell_type": "code",
   "execution_count": 43,
   "id": "d907c6d1",
   "metadata": {},
   "outputs": [
    {
     "data": {
      "text/plain": [
       "53766522703.59955"
      ]
     },
     "execution_count": 43,
     "metadata": {},
     "output_type": "execute_result"
    }
   ],
   "source": [
    "#sum of squared error\n",
    "kmeans.inertia_"
   ]
  },
  {
   "cell_type": "code",
   "execution_count": 44,
   "id": "cc90efdb",
   "metadata": {},
   "outputs": [
    {
     "data": {
      "text/plain": [
       "array([[ 3.98573189e+01,  8.33387813e-01,  1.08889317e+00,\n",
       "         2.11357074e-02,  4.57240481e+02,  5.76323388e-01,\n",
       "         1.74281916e-01,  7.61501444e-01,  1.57726660e+01,\n",
       "         2.52770427e+02,  2.80968331e+00,  5.69278152e-01,\n",
       "         2.71616971e-01,  5.22652551e+00,  5.49659288e+00],\n",
       "       [ 4.70471129e+01,  9.29203540e-01,  1.52212389e+00,\n",
       "         3.46944695e-18,  3.26182389e+04,  3.62831858e-01,\n",
       "         4.42477876e-02,  8.76106195e-01,  1.59911504e+01,\n",
       "         2.33127214e+02,  2.37168142e+00,  5.22123894e-01,\n",
       "         2.66407589e-01,  5.64601770e+00,  5.82300885e+00],\n",
       "       [ 4.29941318e+01,  8.52545565e-01,  1.14733406e+00,\n",
       "         8.70511425e-04,  3.74062986e+03,  4.92274211e-01,\n",
       "         1.01979832e-01,  8.32644178e-01,  1.60702938e+01,\n",
       "         2.74108677e+02,  2.62801648e+00,  7.22524483e-01,\n",
       "         3.25614624e-01,  5.30598477e+00,  5.66441785e+00],\n",
       "       [ 4.31608306e+01,  8.19110666e-01,  1.20435685e+00,\n",
       "        -3.81639165e-17,  1.09276815e+04,  4.42946058e-01,\n",
       "         6.06470959e-02,  8.37136929e-01,  1.58350622e+01,\n",
       "         2.65938551e+02,  2.64702616e+00,  5.77800830e-01,\n",
       "         2.89389430e-01,  5.47614108e+00,  5.83817427e+00]])"
      ]
     },
     "execution_count": 44,
     "metadata": {},
     "output_type": "execute_result"
    }
   ],
   "source": [
    "kmeans.cluster_centers_"
   ]
  },
  {
   "cell_type": "code",
   "execution_count": 45,
   "id": "61b71d02",
   "metadata": {},
   "outputs": [
    {
     "data": {
      "text/plain": [
       "41"
      ]
     },
     "execution_count": 45,
     "metadata": {},
     "output_type": "execute_result"
    }
   ],
   "source": [
    "kmeans.n_iter_"
   ]
  },
  {
   "cell_type": "code",
   "execution_count": 54,
   "id": "f08e7b70",
   "metadata": {},
   "outputs": [
    {
     "data": {
      "text/plain": [
       "array([0, 0, 0, 0, 0])"
      ]
     },
     "execution_count": 54,
     "metadata": {},
     "output_type": "execute_result"
    }
   ],
   "source": [
    "kmeans.labels_[:5]"
   ]
  },
  {
   "cell_type": "code",
   "execution_count": 47,
   "id": "13717484",
   "metadata": {},
   "outputs": [
    {
     "data": {
      "text/plain": [
       "0.7"
      ]
     },
     "execution_count": 47,
     "metadata": {},
     "output_type": "execute_result"
    }
   ],
   "source": [
    "kmeans_silhouette = silhouette_score(\n",
    "        X, kmeans.labels_\n",
    "    ).round(2)\n",
    "kmeans_silhouette"
   ]
  },
  {
   "cell_type": "code",
   "execution_count": 48,
   "id": "b7f07474",
   "metadata": {},
   "outputs": [],
   "source": [
    "GMM = GaussianMixture (n_components =4)\n",
    "GMM.fit(X)\n",
    "cluster = GMM.predict(X)\n",
    "GMM_silhouette = silhouette_score(X,cluster)"
   ]
  },
  {
   "cell_type": "code",
   "execution_count": 49,
   "id": "e6d0f0e6",
   "metadata": {},
   "outputs": [
    {
     "data": {
      "text/plain": [
       "-0.18396671031190187"
      ]
     },
     "execution_count": 49,
     "metadata": {},
     "output_type": "execute_result"
    }
   ],
   "source": [
    "GMM_silhouette"
   ]
  },
  {
   "cell_type": "markdown",
   "id": "7ed91d6d",
   "metadata": {},
   "source": [
    "### observam ca pentru acelasi numar de clustere, KMeans are un rezultat mai bun\n",
    "### Gasim centrele clusterelor din KMeans"
   ]
  },
  {
   "cell_type": "code",
   "execution_count": 53,
   "id": "70121dd7",
   "metadata": {},
   "outputs": [
    {
     "data": {
      "text/plain": [
       "array([[ 3.98573189e+01,  8.33387813e-01,  1.08889317e+00,\n",
       "         2.11357074e-02,  4.57240481e+02,  5.76323388e-01,\n",
       "         1.74281916e-01,  7.61501444e-01,  1.57726660e+01,\n",
       "         2.52770427e+02,  2.80968331e+00,  5.69278152e-01,\n",
       "         2.71616971e-01,  5.22652551e+00,  5.49659288e+00],\n",
       "       [ 4.70471129e+01,  9.29203540e-01,  1.52212389e+00,\n",
       "         3.46944695e-18,  3.26182389e+04,  3.62831858e-01,\n",
       "         4.42477876e-02,  8.76106195e-01,  1.59911504e+01,\n",
       "         2.33127214e+02,  2.37168142e+00,  5.22123894e-01,\n",
       "         2.66407589e-01,  5.64601770e+00,  5.82300885e+00],\n",
       "       [ 4.29941318e+01,  8.52545565e-01,  1.14733406e+00,\n",
       "         8.70511425e-04,  3.74062986e+03,  4.92274211e-01,\n",
       "         1.01979832e-01,  8.32644178e-01,  1.60702938e+01,\n",
       "         2.74108677e+02,  2.62801648e+00,  7.22524483e-01,\n",
       "         3.25614624e-01,  5.30598477e+00,  5.66441785e+00],\n",
       "       [ 4.31608306e+01,  8.19110666e-01,  1.20435685e+00,\n",
       "        -3.81639165e-17,  1.09276815e+04,  4.42946058e-01,\n",
       "         6.06470959e-02,  8.37136929e-01,  1.58350622e+01,\n",
       "         2.65938551e+02,  2.64702616e+00,  5.77800830e-01,\n",
       "         2.89389430e-01,  5.47614108e+00,  5.83817427e+00]])"
      ]
     },
     "execution_count": 53,
     "metadata": {},
     "output_type": "execute_result"
    }
   ],
   "source": [
    "kmeans.cluster_centers_"
   ]
  },
  {
   "cell_type": "code",
   "execution_count": 51,
   "id": "0a158d5e",
   "metadata": {
    "scrolled": true
   },
   "outputs": [
    {
     "ename": "NameError",
     "evalue": "name 'filtered_label0' is not defined",
     "output_type": "error",
     "traceback": [
      "\u001b[1;31m---------------------------------------------------------------------------\u001b[0m",
      "\u001b[1;31mNameError\u001b[0m                                 Traceback (most recent call last)",
      "Input \u001b[1;32mIn [51]\u001b[0m, in \u001b[0;36m<cell line: 5>\u001b[1;34m()\u001b[0m\n\u001b[0;32m      2\u001b[0m label1 \u001b[38;5;241m=\u001b[39m X[kmeans\u001b[38;5;241m.\u001b[39mlabels_ \u001b[38;5;241m==\u001b[39m \u001b[38;5;241m1\u001b[39m]\n\u001b[0;32m      3\u001b[0m label2 \u001b[38;5;241m=\u001b[39m X[kmeans\u001b[38;5;241m.\u001b[39mlabels_ \u001b[38;5;241m==\u001b[39m \u001b[38;5;241m2\u001b[39m]\n\u001b[1;32m----> 5\u001b[0m cols \u001b[38;5;241m=\u001b[39m \u001b[43mfiltered_label0\u001b[49m\u001b[38;5;241m.\u001b[39mcolumns\n\u001b[0;32m      7\u001b[0m plt\u001b[38;5;241m.\u001b[39mscatter(label_0[cols[\u001b[38;5;241m0\u001b[39m]], label_0[cols[\u001b[38;5;241m1\u001b[39m]], color \u001b[38;5;241m=\u001b[39m \u001b[38;5;124m'\u001b[39m\u001b[38;5;124mred\u001b[39m\u001b[38;5;124m'\u001b[39m)\n\u001b[0;32m      8\u001b[0m plt\u001b[38;5;241m.\u001b[39mscatter(label_1[cols[\u001b[38;5;241m0\u001b[39m]], label_1[cols[\u001b[38;5;241m1\u001b[39m]], color \u001b[38;5;241m=\u001b[39m \u001b[38;5;124m'\u001b[39m\u001b[38;5;124mblack\u001b[39m\u001b[38;5;124m'\u001b[39m)\n",
      "\u001b[1;31mNameError\u001b[0m: name 'filtered_label0' is not defined"
     ]
    }
   ],
   "source": [
    "label0 = X[kmeans.labels_ == 0]\n",
    "label1 = X[kmeans.labels_ == 1]\n",
    "label2 = X[kmeans.labels_ == 2]\n",
    "\n",
    "cols = filtered_label0.columns\n",
    "\n",
    "plt.scatter(label_0[cols[0]], label_0[cols[1]], color = 'red')\n",
    "plt.scatter(label_1[cols[0]], label_1[cols[1]], color = 'black')\n",
    "plt.show()\n",
    " \n",
    "#plotting the results\n",
    "#plt.scatter(filtered_label0[:,1] , filtered_label0[:,2])\n",
    "#plt.show()"
   ]
  },
  {
   "cell_type": "markdown",
   "id": "4b256056",
   "metadata": {},
   "source": [
    "### Gasim valorile medii pentru GMM"
   ]
  },
  {
   "cell_type": "code",
   "execution_count": 52,
   "id": "49ad1dd6",
   "metadata": {},
   "outputs": [
    {
     "data": {
      "text/plain": [
       "array([[3.91606085e+01, 8.34482028e-01, 1.08788624e+00, 6.66329979e-01,\n",
       "        4.76285041e+02, 5.80668111e-01, 3.01348455e-01, 8.21513091e-01,\n",
       "        1.55223776e+01, 2.32437047e+02, 3.18873644e+00, 5.42120609e+00,\n",
       "        5.79453303e-01, 5.16772466e+00, 5.85836561e+00],\n",
       "       [4.05577260e+01, 8.33764202e-01, 1.08938068e+00, 0.00000000e+00,\n",
       "        1.27823936e+03, 5.38209229e-01, 0.00000000e+00, 7.05955719e-01,\n",
       "        1.60778236e+01, 2.57750300e+02, 2.79372404e+00, 0.00000000e+00,\n",
       "        0.00000000e+00, 5.27116779e+00, 5.44616645e+00],\n",
       "       [4.21435669e+01, 8.45840975e-01, 1.18733936e+00, 0.00000000e+00,\n",
       "        6.34978050e+03, 5.45549682e-01, 4.50528330e-01, 9.55694806e-01,\n",
       "        1.74041795e+01, 2.13211838e+02, 6.60829466e+00, 9.72542736e-01,\n",
       "        6.40628175e-01, 5.24716689e+00, 5.73555943e+00],\n",
       "       [3.99231435e+01, 8.40083224e-01, 1.11960613e+00, 0.00000000e+00,\n",
       "        6.73567535e+02, 6.13043134e-01, 4.89437223e-01, 9.05900029e-01,\n",
       "        1.48741353e+01, 2.63381210e+02, 1.91689153e+00, 1.52056551e+00,\n",
       "        8.82097782e-01, 5.19466755e+00, 5.67628073e+00]])"
      ]
     },
     "execution_count": 52,
     "metadata": {},
     "output_type": "execute_result"
    }
   ],
   "source": [
    "GMM.means_"
   ]
  },
  {
   "cell_type": "code",
   "execution_count": null,
   "id": "d1d70609",
   "metadata": {},
   "outputs": [],
   "source": []
  }
 ],
 "metadata": {
  "kernelspec": {
   "display_name": "Python 3 (ipykernel)",
   "language": "python",
   "name": "python3"
  },
  "language_info": {
   "codemirror_mode": {
    "name": "ipython",
    "version": 3
   },
   "file_extension": ".py",
   "mimetype": "text/x-python",
   "name": "python",
   "nbconvert_exporter": "python",
   "pygments_lexer": "ipython3",
   "version": "3.9.12"
  }
 },
 "nbformat": 4,
 "nbformat_minor": 5
}
